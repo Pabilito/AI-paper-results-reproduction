{
 "cells": [
  {
   "cell_type": "markdown",
   "id": "87b5debb",
   "metadata": {},
   "source": [
    "Demontis, Ambra, et al. \"Why do adversarial attacks transfer? Explaining transferability of evasion and poisoning attacks.\" 28th USENIX security symposium (USENIX security 19). 2019.\n",
    "\n",
    "To reproduce the results, use this code from SecML library. Instead of the toy example with CDLRandomBlobs, you can load MNIST dataset from MNIST data loader and you can get DREBIN dataset here. \n",
    "\n",
    "\n",
    "Paper:https://www.usenix.org/system/files/sec19-demontis.pdf\n",
    "\n",
    "\n",
    "Useful links from the projectfile:\n",
    "\n",
    "https://secml.readthedocs.io/en/v0.15/tutorials/13-Android-Malware-Detection.html\n",
    "\n",
    "https://secml.readthedocs.io/en/v0.15/secml.data.loader.html#module-secml.data.loader.c_dataloader_mnist\n",
    "\n",
    "https://figshare.com/articles/dataset/Android_malware_dataset_for_machine_learning_2/5854653"
   ]
  },
  {
   "cell_type": "markdown",
   "id": "93b2c914",
   "metadata": {},
   "source": [
    "20-25 min for the presentation + 5-10 for questions\n",
    "\n",
    "Don't show code on the slides\n",
    "\n",
    "Present content of the paper + show what we have done with some graphs or tables\n",
    "\n",
    "Be curious - look for why results are different or play with some variables"
   ]
  },
  {
   "cell_type": "markdown",
   "id": "d890f68d",
   "metadata": {},
   "source": [
    "**Remember to run it in the conda - I have python 3.10 and I need 3.8 for secml**"
   ]
  },
  {
   "cell_type": "markdown",
   "id": "154ea96e",
   "metadata": {},
   "source": [
    "https://secml.readthedocs.io/en/v0.15/tutorials/04-Transferability.html\n",
    "\n",
    "This link seems more useful than the one with malware detection."
   ]
  },
  {
   "cell_type": "code",
   "execution_count": 1,
   "id": "9fd0eeed",
   "metadata": {},
   "outputs": [],
   "source": [
    "%%capture --no-stderr --no-display\n",
    "# NBVAL_IGNORE_OUTPUT\n",
    "\n",
    "try:\n",
    "    import secml\n",
    "except ImportError:\n",
    "    %pip install git+https://gitlab.com/secml/secml\n",
    "    import secml"
   ]
  },
  {
   "cell_type": "code",
   "execution_count": 2,
   "id": "36514542",
   "metadata": {},
   "outputs": [],
   "source": [
    "# NBVAL_IGNORE_OUTPUT\n",
    "import re\n",
    "import secml\n",
    "from secml import settings\n",
    "from secml.utils import fm\n",
    "from secml.utils.download_utils import dl_file_gitlab\n",
    "\n",
    "repo_url = 'https://gitlab.com/secml/secml-zoo'\n",
    "file_name = 'drebin-reduced.tar.gz'\n",
    "file_path = 'datasets/DrebinRed/' + file_name\n",
    "output_dir = fm.join(settings.SECML_DS_DIR, 'drebin-red')\n",
    "md5_digest = 'ecf87ddedf614dd53b89285c29cf1caf'\n",
    "\n",
    "ds_path = fm.join(output_dir, file_name)\n",
    "\n",
    "# The following tries to get the correct dataset for the current library version\n",
    "if not fm.file_exist(ds_path):\n",
    "    try:\n",
    "        # Try downloading from the branch corresponding to current version\n",
    "        min_version = re.search(r'^\\d+.\\d+', secml.__version__).group(0)\n",
    "        dl_file_gitlab(repo_url, file_path, output_dir,\n",
    "                       branch='v' + min_version, md5_digest=md5_digest)\n",
    "\n",
    "    except Exception as e:  # Try looking into 'master' branch...\n",
    "        dl_file_gitlab(repo_url, file_path, output_dir, md5_digest=md5_digest)"
   ]
  },
  {
   "cell_type": "code",
   "execution_count": 3,
   "id": "78c8ce2b",
   "metadata": {},
   "outputs": [
    {
     "name": "stdout",
     "output_type": "stream",
     "text": [
      "Num. samples:  12550\n",
      "Num. benign samples:  12000\n",
      "Num. malicious samples:  550\n",
      "Num. features:  1227080\n"
     ]
    }
   ],
   "source": [
    "from secml.utils import pickle_utils\n",
    "\n",
    "ds = pickle_utils.load(ds_path)\n",
    "\n",
    "print(\"Num. samples: \", ds.num_samples)\n",
    "\n",
    "n_neg = sum(ds.Y == 0)\n",
    "n_pos = sum(ds.Y == 1)\n",
    "\n",
    "print(\"Num. benign samples: \", n_neg)\n",
    "print(\"Num. malicious samples: \", n_pos)\n",
    "\n",
    "print(\"Num. features: \", ds.num_features)"
   ]
  },
  {
   "cell_type": "code",
   "execution_count": 4,
   "id": "4231b6c8",
   "metadata": {},
   "outputs": [
    {
     "name": "stdout",
     "output_type": "stream",
     "text": [
      "Training started...\n",
      "Training completed!\n"
     ]
    }
   ],
   "source": [
    "from secml.data.splitter import CTrainTestSplit\n",
    "\n",
    "tr, ts = CTrainTestSplit(6000, random_state=0).split(ds)\n",
    "\n",
    "from secml.ml.classifiers import CClassifierSVM\n",
    "\n",
    "clf = CClassifierSVM(C=0.1)\n",
    "\n",
    "print(\"Training started...\")\n",
    "clf.fit(tr.X, tr.Y)\n",
    "print(\"Training completed!\")"
   ]
  },
  {
   "cell_type": "code",
   "execution_count": 5,
   "id": "818cff88",
   "metadata": {},
   "outputs": [
    {
     "name": "stdout",
     "output_type": "stream",
     "text": [
      "Detection rate @ 2% FPR: 95.04%\n",
      "F1 score: 89.09%\n"
     ]
    }
   ],
   "source": [
    "# Classification of test set and computation of performance metrics\n",
    "y_pred, score_pred = clf.predict(ts.X, return_decision_function=True)\n",
    "\n",
    "from secml.ml.peval.metrics import CMetricTPRatFPR, CMetricF1, CRoc\n",
    "\n",
    "fpr_th = 0.02  # 2% False Positive Rate\n",
    "\n",
    "dr = CMetricTPRatFPR(fpr=fpr_th).performance_score(y_true=ts.Y, score=score_pred[:, 1].ravel())\n",
    "print(\"Detection rate @ 2% FPR: {:.2%}\".format(dr))\n",
    "\n",
    "f1 = CMetricF1().performance_score(y_true=ts.Y, y_pred=y_pred)\n",
    "print(\"F1 score: {:.2%}\".format(f1))"
   ]
  },
  {
   "cell_type": "code",
   "execution_count": 6,
   "id": "6582f271",
   "metadata": {},
   "outputs": [
    {
     "data": {
      "image/png": "[encoded data removed]",
      "text/plain": [
       "<Figure size 600x400 with 1 Axes>"
      ]
     },
     "metadata": {},
     "output_type": "display_data"
    }
   ],
   "source": [
    "fpr, tpr, _ = CRoc().compute(y_true=ts.Y, score=score_pred[:, 1].ravel())\n",
    "\n",
    "from secml.figure import CFigure\n",
    "# Only required for visualization in notebooks\n",
    "%matplotlib inline\n",
    "\n",
    "fig = CFigure(height=4, width=6)\n",
    "fig.sp.plot_roc(fpr, tpr)\n",
    "fig.sp._sp.axvline(x=2,  c='k', linestyle='--', zorder=-1)\n",
    "fig.sp.xlim(0.5, 20)\n",
    "fig.sp.ylim(90, 98)\n",
    "fig.sp.yticks([90, 92, 94, 96, 98])\n",
    "fig.sp.yticklabels([90, 92, 94, 96, 98])\n",
    "fig.sp.ylabel(r'Detection Rate $(\\%)$')"
   ]
  },
  {
   "cell_type": "code",
   "execution_count": 7,
   "id": "328a7b17",
   "metadata": {},
   "outputs": [
    {
     "name": "stdout",
     "output_type": "stream",
     "text": [
      "Computing explanations using 'CExplainerGradientInput'\n"
     ]
    }
   ],
   "source": [
    "from secml.explanation import CExplainerGradientInput\n",
    "\n",
    "expl = CExplainerGradientInput(clf)\n",
    "\n",
    "print(\"Computing explanations using '{:}'\".format(expl.__class__.__name__))"
   ]
  },
  {
   "cell_type": "code",
   "execution_count": 8,
   "id": "578d008f",
   "metadata": {},
   "outputs": [
    {
     "name": "stdout",
     "output_type": "stream",
     "text": [
      "Explanations for sample 137 (true class: 0)\n",
      " -8.30\treq_permissions::android.permission.CALL_PHONE\n",
      " -6.59\tsuspicious_calls::android/net/Uri;->toString\n",
      "  5.60\treq_permissions::android.permission.INTERNET\n",
      " -5.39\tused_permissions::ACCESS_NETWORK_STATE\n",
      " -5.08\tapi_calls::android/media/MediaPlayer;->start\n",
      " -4.24\tused_permissions::VIBRATE\n",
      " -3.65\tintent_filters::android.intent.category.LAUNCHER\n",
      " -3.56\treq_permissions::android.permission.ACCESS_FINE_LOCATION\n",
      " -3.43\tused_permissions::ACCESS_FINE_LOCATION\n",
      " -2.63\tapi_calls::android/location/LocationManager;->getLastKnownLocation\n"
     ]
    }
   ],
   "source": [
    "# Explanations for a benign sample\n",
    "i = 137\n",
    "x, y = ts[i, :].X, ts[i, :].Y\n",
    "\n",
    "print(\"Explanations for sample {:} (true class: {:})\".format(i, y.item()))\n",
    "\n",
    "attr = expl.explain(x, y=1)\n",
    "attr = attr / attr.norm(order=1)  # To display values in 0-100\n",
    "\n",
    "attr_argsort = abs(attr).argsort().ravel()[::-1]\n",
    "\n",
    "n_plot = 10\n",
    "\n",
    "for i in attr_argsort[:10]:\n",
    "    print(\"{:6.2f}\\t{:}\".format(attr[i].item() * 100, ds.header.feat_desc[i]))"
   ]
  },
  {
   "cell_type": "code",
   "execution_count": 9,
   "id": "648ef498",
   "metadata": {},
   "outputs": [
    {
     "name": "stdout",
     "output_type": "stream",
     "text": [
      "Explanations for sample 138 (true class: 1)\n",
      " 15.18\tsuspicious_calls::android/telephony/TelephonyManager;->getNetworkOperator\n",
      " 12.55\treq_permissions::android.permission.SEND_SMS\n",
      "  8.69\treq_permissions::android.permission.READ_SMS\n",
      "  5.83\treq_permissions::android.permission.INTERNET\n",
      "  5.58\tintent_filters::android.intent.action.BOOT_COMPLETED\n",
      " -4.41\tused_permissions::VIBRATE\n",
      "  3.96\tintent_filters::android.intent.category.HOME\n",
      " -3.80\tintent_filters::android.intent.category.LAUNCHER\n",
      "  3.66\treceivers::com.google.android.c2dm.C2DMBroadcastReceiver\n",
      "  3.39\treq_permissions::android.permission.READ_PHONE_STATE\n"
     ]
    }
   ],
   "source": [
    "# Explanations for a malware\n",
    "i = 138\n",
    "x, y = ts[i, :].X, ts[i, :].Y\n",
    "\n",
    "print(\"Explanations for sample {:} (true class: {:})\".format(i, y.item()))\n",
    "\n",
    "attr = expl.explain(x, y=1)\n",
    "attr = attr / attr.norm(order=1)  # To display values in 0-100\n",
    "\n",
    "attr_argsort = abs(attr).argsort().ravel()[::-1]\n",
    "\n",
    "n_plot = 10\n",
    "\n",
    "for i in attr_argsort[:10]:\n",
    "    print(\"{:6.2f}\\t{:}\".format(attr[i].item() * 100, ds.header.feat_desc[i]))"
   ]
  },
  {
   "cell_type": "code",
   "execution_count": 10,
   "id": "3b522c34",
   "metadata": {},
   "outputs": [],
   "source": [
    "# Attack parameters\n",
    "params = {\n",
    "    \"classifier\": clf,\n",
    "    \"distance\": 'l1',\n",
    "    \"double_init\": False,\n",
    "    \"lb\": 'x0',\n",
    "    \"ub\": 1,\n",
    "    \"attack_classes\": 'all',\n",
    "    \"y_target\": 0,\n",
    "    \"solver_params\": {'eta': 1, 'eta_min': 1, 'eta_max': None, 'eps': 1e-4}\n",
    "}\n",
    "\n",
    "from secml.adv.attacks.evasion import CAttackEvasionPGDLS\n",
    "\n",
    "evasion = CAttackEvasionPGDLS(**params)"
   ]
  },
  {
   "cell_type": "code",
   "execution_count": 11,
   "id": "559619ab",
   "metadata": {},
   "outputs": [
    {
     "name": "stdout",
     "output_type": "stream",
     "text": [
      "Running security evaluation...\n",
      "Security evaluation completed!\n"
     ]
    }
   ],
   "source": [
    "n_mal = 10\n",
    "\n",
    "# Attack DS\n",
    "mal_idx = ts.Y.find(ts.Y == 1)[:n_mal]\n",
    "adv_ds = ts[mal_idx, :]\n",
    "\n",
    "# Security evaluation parameters\n",
    "param_name = 'dmax'  # This is the `eps` parameter\n",
    "dmax_start = 0\n",
    "dmax = 28\n",
    "dmax_step = 4\n",
    "\n",
    "from secml.array import CArray\n",
    "\n",
    "param_values = CArray.arange(\n",
    "    start=dmax_start, step=dmax_step, stop=dmax + dmax_step)\n",
    "\n",
    "from secml.adv.seceval import CSecEval\n",
    "\n",
    "sec_eval = CSecEval(\n",
    "    attack=evasion,\n",
    "    param_name=param_name,\n",
    "    param_values=param_values)\n",
    "\n",
    "print(\"Running security evaluation...\")\n",
    "sec_eval.run_sec_eval(adv_ds)\n",
    "print(\"Security evaluation completed!\")"
   ]
  },
  {
   "cell_type": "code",
   "execution_count": 12,
   "id": "de88a818",
   "metadata": {},
   "outputs": [
    {
     "data": {
      "image/png": "[encoded data removed]",
      "text/plain": [
       "<Figure size 500x500 with 1 Axes>"
      ]
     },
     "metadata": {},
     "output_type": "display_data"
    }
   ],
   "source": [
    "from secml.figure import CFigure\n",
    "fig = CFigure(height=5, width=5)\n",
    "\n",
    "from secml.ml.peval.metrics import CMetricTHatFPR, CMetricTPRatTH\n",
    "\n",
    "# Get the ROC threshold at which Detection Rate should be computed\n",
    "th = CMetricTHatFPR(fpr=fpr_th).performance_score(y_true=ts.Y, score=score_pred[:, 1].ravel())\n",
    "\n",
    "# Convenience function for plotting the Security Evaluation Curve\n",
    "fig.sp.plot_sec_eval(sec_eval.sec_eval_data, metric=CMetricTPRatTH(th=th),\n",
    "                     percentage=True, label='SVM', color='green', marker='o')\n",
    "fig.sp.ylabel(r'Detection Rate $(\\%)$')\n",
    "fig.sp.xlabel(r\"$\\varepsilon$\")"
   ]
  },
  {
   "cell_type": "markdown",
   "id": "dab9aa7c",
   "metadata": {},
   "source": [
    "Is this code above relevant ??\n",
    "The main code is below"
   ]
  },
  {
   "cell_type": "code",
   "execution_count": 26,
   "id": "c7891eb5",
   "metadata": {},
   "outputs": [],
   "source": [
    "#Load the dataset\n",
    "random_state = 999\n",
    "'''\n",
    "\n",
    "n_features = 2  # Number of features\n",
    "n_samples = 2250  # Number of samples\n",
    "centers = [[-2, 0], [2, -2], [2, 2]]  # Centers of the clusters\n",
    "cluster_std = 0.8  # Standard deviation of the clusters\n",
    "\n",
    "from secml.data.loader import CDLRandomBlobs\n",
    "dataset = CDLRandomBlobs(n_features=n_features,\n",
    "                         centers=centers,\n",
    "                         cluster_std=cluster_std,\n",
    "                         n_samples=n_samples,\n",
    "                         random_state=random_state).load()\n",
    "'''\n",
    "\n",
    "from secml.data.loader import CDataLoaderMNIST\n",
    "mnist_loader = CDataLoaderMNIST()\n",
    "tr = mnist_loader.load(ds='training', digits=(0, 1, 2, 3, 4, 5, 6, 7, 8, 9))\n",
    "ts = mnist_loader.load(ds='testing', digits=(0, 1, 2, 3, 4, 5, 6, 7, 8, 9))\n",
    "\n",
    "#This dataset is not normalized, so it has to be normalized similarly to blobs\n",
    "\n",
    "''' Blob code\n",
    "n_tr = 1000  # Number of training set samples\n",
    "n_ts = 250  # Number of test set samples\n",
    "\n",
    "# Split in training and test.\n",
    "from secml.data.splitter import CTrainTestSplit\n",
    "splitter = CTrainTestSplit(\n",
    "    train_size=2 * n_tr, test_size=n_ts, random_state=random_state)\n",
    "tr, ts = splitter.split(dataset)\n",
    "'''\n",
    "\n",
    "# Normalize the data\n",
    "from secml.ml.features import CNormalizerMinMax\n",
    "nmz = CNormalizerMinMax()\n",
    "tr.X = nmz.fit_transform(tr.X)\n",
    "ts.X = nmz.transform(ts.X)\n",
    "\n",
    "\n",
    "''' Blob code\n",
    "# Generate 2 training datasets for surrogate and target classifiers\n",
    "tr1 = tr[:n_tr, :]  # Source classifier training set\n",
    "tr2 = tr[n_tr:, :]  # Target classifier training set\n",
    "'''\n",
    "\n",
    "# Get the size of the training dataset\n",
    "num_samples, num_features = tr.X.shape\n",
    "tr1 = tr[:int(num_samples/2), :]  # Source classifier training set\n",
    "tr2 = tr[int(num_samples/2):, :]  # Target classifier training set"
   ]
  },
  {
   "cell_type": "code",
   "execution_count": 9,
   "id": "02870bac",
   "metadata": {},
   "outputs": [
    {
     "name": "stdout",
     "output_type": "stream",
     "text": [
      "\n",
      "Training the surrogate classifiers...\n",
      "Accuracy of the surrogate classifier on test set: 93.00%\n",
      "\n",
      "Training the target classifiers...\n"
     ]
    }
   ],
   "source": [
    "from collections import namedtuple\n",
    "CLF = namedtuple('CLF', 'clf_name clf xval_parameters')\n",
    "\n",
    "from secml.ml.classifiers.multiclass import CClassifierMulticlassOVA\n",
    "# Binary classifiers\n",
    "from secml.ml.classifiers import CClassifierSVM, CClassifierSGD\n",
    "# Natively-multiclass classifiers\n",
    "from secml.ml.classifiers import CClassifierKNN, CClassifierDecisionTree, CClassifierRandomForest\n",
    "\n",
    "# Let's create a 3-Fold data splitter\n",
    "from secml.data.splitter import CDataSplitterKFold\n",
    "xval_splitter = CDataSplitterKFold(num_folds=3, random_state=random_state)\n",
    "\n",
    "# Metric to use for training and performance evaluation\n",
    "from secml.ml.peval.metrics import CMetricAccuracy\n",
    "metric = CMetricAccuracy()\n",
    "\n",
    "surr_clf = CLF(\n",
    "    clf_name='SVM Linear H',\n",
    "    clf=CClassifierMulticlassOVA(CClassifierSVM, kernel='linear'),\n",
    "    xval_parameters={'C': [100]})\n",
    "\n",
    "''' I have just one set of values - the one from the paper\n",
    "print(\"Estimating the best training parameters of the surrogate classifier...\")\n",
    "best_params = surr_clf.clf.estimate_parameters(\n",
    "    dataset=tr1,\n",
    "    parameters=surr_clf.xval_parameters,\n",
    "    splitter=xval_splitter,\n",
    "    metric=metric,\n",
    "    perf_evaluator='xval'\n",
    ")\n",
    "print(\"The best training parameters of the surrogate classifier are: \",\n",
    "      [(k, best_params[k]) for k in sorted(best_params)])\n",
    "'''\n",
    "\n",
    "print(\"\\nTraining the surrogate classifiers...\")\n",
    "\n",
    "surr_clf.clf.fit(tr1.X, tr1.Y)\n",
    "\n",
    "y_pred = surr_clf.clf.predict(ts.X)\n",
    "\n",
    "acc = metric.performance_score(y_true=ts.Y, y_pred=y_pred)\n",
    "\n",
    "print(\"Accuracy of the surrogate classifier on test set: {:.2%}\".format(acc))\n",
    "\n",
    "\n",
    "''' \n",
    "    #Something is wrong with this one\n",
    "    CLF(clf_name='Logistic (SGD)',\n",
    "        clf=CClassifierMulticlassOVA(\n",
    "            CClassifierSGD, regularizer='l2', loss='loss',\n",
    "            random_state=random_state),\n",
    "        xval_parameters={'alpha': [1e-6, 1e-5, 1e-4]}),\n",
    "     \n",
    "    #Not used in a paper\n",
    "    CLF(clf_name='kNN',\n",
    "        clf=CClassifierKNN(),\n",
    "        xval_parameters={'n_neighbors': [30, 40, 50]}),\n",
    "'''\n",
    "\n",
    "print(\"\\nTraining the target classifiers...\")"
   ]
  },
  {
   "cell_type": "code",
   "execution_count": 5,
   "id": "cb146a07",
   "metadata": {},
   "outputs": [
    {
     "name": "stdout",
     "output_type": "stream",
     "text": [
      "\n",
      "Classifiers trained...\n"
     ]
    }
   ],
   "source": [
    "target_clf_list = [\n",
    "    CLF(\n",
    "        clf_name='SVM Linear H',\n",
    "        clf=CClassifierMulticlassOVA(CClassifierSVM, kernel='linear'),\n",
    "        xval_parameters={'C': [100]}),\n",
    "    CLF(\n",
    "        clf_name='SVM Linear L',\n",
    "        clf=CClassifierMulticlassOVA(CClassifierSVM, kernel='linear'),\n",
    "        xval_parameters={'C': [0.1]}),\n",
    "]\n",
    "\n",
    "'''Run one by one or my computer will die \n",
    "    CLF(clf_name='SVM RBF H',\n",
    "        clf=CClassifierMulticlassOVA(CClassifierSVM, kernel='rbf'),\n",
    "        xval_parameters={'C': [100],  'kernel.gamma': [0.01]}),\n",
    "    CLF(clf_name='SVM RBF L',\n",
    "        clf=CClassifierMulticlassOVA(CClassifierSVM, kernel='rbf'),\n",
    "        xval_parameters={'C': [1],  'kernel.gamma': [0.01]}),\n",
    "    CLF(clf_name='Decision Tree H',\n",
    "        clf=CClassifierDecisionTree(random_state=random_state),\n",
    "        xval_parameters={'max_depth': [16]}),\n",
    "    CLF(clf_name='Decision Tree L',\n",
    "        clf=CClassifierDecisionTree(random_state=random_state),\n",
    "        xval_parameters={'max_depth': [8]}),\n",
    "    CLF(clf_name='Random Forest H',\n",
    "        clf=CClassifierRandomForest(random_state=random_state),\n",
    "        xval_parameters={'n_estimators': [30], 'max_depth': [16]}),\n",
    "    CLF(clf_name='Random Forest L',\n",
    "        clf=CClassifierRandomForest(random_state=random_state),\n",
    "        xval_parameters={'n_estimators': [30], 'max_depth': [8]}),\n",
    "'''\n",
    "\n",
    "print(\"\\nClassifiers trained...\")"
   ]
  },
  {
   "cell_type": "code",
   "execution_count": 6,
   "id": "e8ba4089",
   "metadata": {},
   "outputs": [
    {
     "name": "stdout",
     "output_type": "stream",
     "text": [
      "Training of SVM Linear H ...\n",
      "Classifier: SVM Linear H\tAccuracy: 91.70%\n",
      "Training of SVM Linear L ...\n",
      "Classifier: SVM Linear L\tAccuracy: 91.70%\n"
     ]
    }
   ],
   "source": [
    "for i, test_case in enumerate(target_clf_list):\n",
    "    clf = test_case.clf\n",
    "    xval_params = test_case.xval_parameters\n",
    "\n",
    "    '''No best parameters for now, I use data from the papers\n",
    "    print(\"\\nEstimating the best training parameters of {:} ...\"\n",
    "          \"\".format(test_case.clf_name))\n",
    "    \n",
    "    best_params = clf.estimate_parameters(\n",
    "        dataset=tr2, parameters=xval_params, splitter=xval_splitter,\n",
    "        metric='accuracy', perf_evaluator='xval')\n",
    "            \n",
    "    print(\"The best parameters for '{:}' are: \".format(test_case.clf_name),\n",
    "          [(k, best_params[k]) for k in sorted(best_params)])\n",
    "\n",
    "    '''\n",
    "    print(\"Training of {:} ...\".format(test_case.clf_name))\n",
    "    clf.fit(tr2.X, tr2.Y)\n",
    "\n",
    "    # Predictions on test set and performance evaluation\n",
    "    y_pred = clf.predict(ts.X)\n",
    "    acc = metric.performance_score(y_true=ts.Y, y_pred=y_pred)\n",
    "\n",
    "    print(\"Classifier: {:}\\tAccuracy: {:.2%}\".format(test_case.clf_name, acc))"
   ]
  },
  {
   "cell_type": "markdown",
   "id": "334ed6ef",
   "metadata": {},
   "source": [
    "Change \"loss = log\" to \"loss = log_loss\" in the:\n",
    "\n",
    " CLF(clf_name='Logistic (SGD)',\n",
    "        clf=CClassifierMulticlassOVA(\n",
    "            CClassifierSGD, regularizer='l2', loss='log_loss',\n",
    "            random_state=random_state),\n",
    "        xval_parameters={'alpha': [1e-6, 1e-5, 1e-4]}),\n",
    "        \n",
    "This change causes:  no class of type `log_loss` is a subclass of 'CLoss' from module 'secml.ml.classifiers.loss.c_loss'"
   ]
  },
  {
   "cell_type": "code",
   "execution_count": 25,
   "id": "dccfe276",
   "metadata": {},
   "outputs": [
    {
     "ename": "IndexError",
     "evalue": "stop element of index 0, slice(None, None, 200), is out of bounds.",
     "output_type": "error",
     "traceback": [
      "\u001b[1;31m---------------------------------------------------------------------------\u001b[0m",
      "\u001b[1;31mIndexError\u001b[0m                                Traceback (most recent call last)",
      "Cell \u001b[1;32mIn[25], line 29\u001b[0m\n\u001b[0;32m     18\u001b[0m pgd_ls_attack \u001b[38;5;241m=\u001b[39m CAttackEvasionPGDLS(\n\u001b[0;32m     19\u001b[0m     classifier\u001b[38;5;241m=\u001b[39msurr_clf\u001b[38;5;241m.\u001b[39mclf,\n\u001b[0;32m     20\u001b[0m     double_init_ds\u001b[38;5;241m=\u001b[39mtr1,\n\u001b[1;32m   (...)\u001b[0m\n\u001b[0;32m     25\u001b[0m     solver_params\u001b[38;5;241m=\u001b[39msolver_params,\n\u001b[0;32m     26\u001b[0m     y_target\u001b[38;5;241m=\u001b[39my_target)\n\u001b[0;32m     28\u001b[0m \u001b[38;5;66;03m#Again it is very computationally intensive, run a test on a small subset (1%) and check time\u001b[39;00m\n\u001b[1;32m---> 29\u001b[0m smallerts \u001b[38;5;241m=\u001b[39m \u001b[43mts\u001b[49m\u001b[43m[\u001b[49m\u001b[43m:\u001b[49m\u001b[38;5;241;43m200\u001b[39;49m\u001b[43m,\u001b[49m\u001b[43m \u001b[49m\u001b[43m:\u001b[49m\u001b[43m]\u001b[49m\n\u001b[0;32m     31\u001b[0m \u001b[38;5;66;03m# Run the evasion attack on x0\u001b[39;00m\n\u001b[0;32m     32\u001b[0m \u001b[38;5;28mprint\u001b[39m(\u001b[38;5;124m\"\u001b[39m\u001b[38;5;124mAttack started...\u001b[39m\u001b[38;5;124m\"\u001b[39m)\n",
      "File \u001b[1;32mD:\\Anaconda\\lib\\site-packages\\secml\\data\\c_dataset.py:216\u001b[0m, in \u001b[0;36mCDataset.__getitem__\u001b[1;34m(self, idx)\u001b[0m\n\u001b[0;32m    212\u001b[0m \u001b[38;5;28;01mif\u001b[39;00m \u001b[38;5;129;01mnot\u001b[39;00m \u001b[38;5;28misinstance\u001b[39m(idx, \u001b[38;5;28mtuple\u001b[39m) \u001b[38;5;129;01mor\u001b[39;00m \u001b[38;5;28mlen\u001b[39m(idx) \u001b[38;5;241m!=\u001b[39m \u001b[38;5;28mself\u001b[39m\u001b[38;5;241m.\u001b[39mX\u001b[38;5;241m.\u001b[39mndim:\n\u001b[0;32m    213\u001b[0m     \u001b[38;5;28;01mraise\u001b[39;00m \u001b[38;5;167;01mIndexError\u001b[39;00m(\n\u001b[0;32m    214\u001b[0m         \u001b[38;5;124m\"\u001b[39m\u001b[38;5;132;01m{:}\u001b[39;00m\u001b[38;5;124m sequences are required for indexing.\u001b[39m\u001b[38;5;124m\"\u001b[39m\u001b[38;5;241m.\u001b[39mformat(\u001b[38;5;28mself\u001b[39m\u001b[38;5;241m.\u001b[39mX\u001b[38;5;241m.\u001b[39mndim))\n\u001b[1;32m--> 216\u001b[0m y \u001b[38;5;241m=\u001b[39m \u001b[38;5;28;43mself\u001b[39;49m\u001b[38;5;241;43m.\u001b[39;49m\u001b[43mY\u001b[49m\u001b[38;5;241;43m.\u001b[39;49m\u001b[38;5;21;43m__getitem__\u001b[39;49m\u001b[43m(\u001b[49m\u001b[43m[\u001b[49m\u001b[43midx\u001b[49m\u001b[43m[\u001b[49m\u001b[38;5;241;43m0\u001b[39;49m\u001b[43m]\u001b[49m\u001b[43m \u001b[49m\u001b[38;5;28;43;01mif\u001b[39;49;00m\u001b[43m \u001b[49m\u001b[38;5;28;43misinstance\u001b[39;49m\u001b[43m(\u001b[49m\u001b[43midx\u001b[49m\u001b[43m,\u001b[49m\u001b[43m \u001b[49m\u001b[38;5;28;43mtuple\u001b[39;49m\u001b[43m)\u001b[49m\u001b[43m \u001b[49m\u001b[38;5;28;43;01melse\u001b[39;49;00m\u001b[43m \u001b[49m\u001b[43midx\u001b[49m\u001b[43m]\u001b[49m\u001b[43m[\u001b[49m\u001b[38;5;241;43m0\u001b[39;49m\u001b[43m]\u001b[49m\u001b[43m)\u001b[49m\n\u001b[0;32m    218\u001b[0m header \u001b[38;5;241m=\u001b[39m \u001b[38;5;28;01mNone\u001b[39;00m\n\u001b[0;32m    219\u001b[0m \u001b[38;5;28;01mif\u001b[39;00m \u001b[38;5;28mself\u001b[39m\u001b[38;5;241m.\u001b[39mheader \u001b[38;5;129;01mis\u001b[39;00m \u001b[38;5;129;01mnot\u001b[39;00m \u001b[38;5;28;01mNone\u001b[39;00m:\n",
      "File \u001b[1;32mD:\\Anaconda\\lib\\site-packages\\secml\\array\\c_array.py:896\u001b[0m, in \u001b[0;36mCArray.__getitem__\u001b[1;34m(self, idx)\u001b[0m\n\u001b[0;32m    893\u001b[0m idx_data \u001b[38;5;241m=\u001b[39m \u001b[38;5;28mself\u001b[39m\u001b[38;5;241m.\u001b[39m_prepare_idx(idx)\n\u001b[0;32m    895\u001b[0m \u001b[38;5;66;03m# Calling getitem of data buffer\u001b[39;00m\n\u001b[1;32m--> 896\u001b[0m \u001b[38;5;28;01mreturn\u001b[39;00m \u001b[38;5;28mself\u001b[39m\u001b[38;5;241m.\u001b[39m\u001b[38;5;18m__class__\u001b[39m(\u001b[38;5;28;43mself\u001b[39;49m\u001b[38;5;241;43m.\u001b[39;49m\u001b[43m_data\u001b[49m\u001b[38;5;241;43m.\u001b[39;49m\u001b[38;5;21;43m__getitem__\u001b[39;49m\u001b[43m(\u001b[49m\u001b[43midx_data\u001b[49m\u001b[43m)\u001b[49m)\n",
      "File \u001b[1;32mD:\\Anaconda\\lib\\site-packages\\secml\\array\\c_dense.py:510\u001b[0m, in \u001b[0;36mCDense.__getitem__\u001b[1;34m(self, idx)\u001b[0m\n\u001b[0;32m    505\u001b[0m     \u001b[38;5;28;01mreturn\u001b[39;00m \u001b[38;5;28mself\u001b[39m\u001b[38;5;241m.\u001b[39m\u001b[38;5;18m__class__\u001b[39m(\n\u001b[0;32m    506\u001b[0m         np\u001b[38;5;241m.\u001b[39mndarray\u001b[38;5;241m.\u001b[39m\u001b[38;5;21m__getitem__\u001b[39m(\n\u001b[0;32m    507\u001b[0m             \u001b[38;5;28mself\u001b[39m\u001b[38;5;241m.\u001b[39matleast_2d()\u001b[38;5;241m.\u001b[39mtondarray(), \u001b[38;5;28mtuple\u001b[39m(idx)))\n\u001b[0;32m    509\u001b[0m \u001b[38;5;66;03m# Check index for all other cases\u001b[39;00m\n\u001b[1;32m--> 510\u001b[0m idx \u001b[38;5;241m=\u001b[39m \u001b[38;5;28;43mself\u001b[39;49m\u001b[38;5;241;43m.\u001b[39;49m\u001b[43m_check_index\u001b[49m\u001b[43m(\u001b[49m\u001b[43midx\u001b[49m\u001b[43m)\u001b[49m\n\u001b[0;32m    512\u001b[0m \u001b[38;5;66;03m# We are ready for numpy\u001b[39;00m\n\u001b[0;32m    513\u001b[0m \u001b[38;5;28;01mreturn\u001b[39;00m \u001b[38;5;28mself\u001b[39m\u001b[38;5;241m.\u001b[39m\u001b[38;5;18m__class__\u001b[39m(np\u001b[38;5;241m.\u001b[39mndarray\u001b[38;5;241m.\u001b[39m\u001b[38;5;21m__getitem__\u001b[39m(\u001b[38;5;28mself\u001b[39m\u001b[38;5;241m.\u001b[39mtondarray(), idx))\n",
      "File \u001b[1;32mD:\\Anaconda\\lib\\site-packages\\secml\\array\\c_dense.py:353\u001b[0m, in \u001b[0;36mCDense._check_index\u001b[1;34m(self, idx)\u001b[0m\n\u001b[0;32m    350\u001b[0m \u001b[38;5;28;01melif\u001b[39;00m is_slice(idx):\n\u001b[0;32m    351\u001b[0m     \u001b[38;5;28;01mif\u001b[39;00m \u001b[38;5;28mself\u001b[39m\u001b[38;5;241m.\u001b[39mndim \u001b[38;5;241m==\u001b[39m \u001b[38;5;241m1\u001b[39m:\n\u001b[0;32m    352\u001b[0m         \u001b[38;5;66;03m# Check validity of slice\u001b[39;00m\n\u001b[1;32m--> 353\u001b[0m         \u001b[38;5;28;43mself\u001b[39;49m\u001b[38;5;241;43m.\u001b[39;49m\u001b[43m_check_index_slice\u001b[49m\u001b[43m(\u001b[49m\u001b[38;5;241;43m0\u001b[39;49m\u001b[43m,\u001b[49m\u001b[43m \u001b[49m\u001b[43midx\u001b[49m\u001b[43m)\u001b[49m\n\u001b[0;32m    355\u001b[0m     \u001b[38;5;28;01melif\u001b[39;00m \u001b[38;5;28mself\u001b[39m\u001b[38;5;241m.\u001b[39mndim \u001b[38;5;241m>\u001b[39m \u001b[38;5;241m1\u001b[39m \u001b[38;5;129;01mand\u001b[39;00m \u001b[38;5;28mself\u001b[39m\u001b[38;5;241m.\u001b[39mshape[\u001b[38;5;241m0\u001b[39m] \u001b[38;5;241m==\u001b[39m \u001b[38;5;241m1\u001b[39m:\n\u001b[0;32m    356\u001b[0m         \u001b[38;5;66;03m# Check validity of slice\u001b[39;00m\n\u001b[0;32m    357\u001b[0m         \u001b[38;5;28mself\u001b[39m\u001b[38;5;241m.\u001b[39m_check_index_slice(\u001b[38;5;241m1\u001b[39m, idx)\n",
      "File \u001b[1;32mD:\\Anaconda\\lib\\site-packages\\secml\\array\\c_dense.py:495\u001b[0m, in \u001b[0;36mCDense._check_index_slice\u001b[1;34m(self, elem_idx, elem)\u001b[0m\n\u001b[0;32m    493\u001b[0m \u001b[38;5;28;01mif\u001b[39;00m elem\u001b[38;5;241m.\u001b[39mstop \u001b[38;5;129;01mis\u001b[39;00m \u001b[38;5;129;01mnot\u001b[39;00m \u001b[38;5;28;01mNone\u001b[39;00m:\n\u001b[0;32m    494\u001b[0m     \u001b[38;5;28;01mif\u001b[39;00m elem\u001b[38;5;241m.\u001b[39mstop \u001b[38;5;241m>\u001b[39m \u001b[38;5;28mself\u001b[39m\u001b[38;5;241m.\u001b[39mshape[elem_idx]:\n\u001b[1;32m--> 495\u001b[0m         \u001b[38;5;28;01mraise\u001b[39;00m \u001b[38;5;167;01mIndexError\u001b[39;00m(\n\u001b[0;32m    496\u001b[0m             \u001b[38;5;124m\"\u001b[39m\u001b[38;5;124mstop element of index \u001b[39m\u001b[38;5;132;01m{:}\u001b[39;00m\u001b[38;5;124m, slice(\u001b[39m\u001b[38;5;132;01m{:}\u001b[39;00m\u001b[38;5;124m, \u001b[39m\u001b[38;5;132;01m{:}\u001b[39;00m\u001b[38;5;124m, \u001b[39m\u001b[38;5;132;01m{:}\u001b[39;00m\u001b[38;5;124m), \u001b[39m\u001b[38;5;124m\"\u001b[39m\n\u001b[0;32m    497\u001b[0m             \u001b[38;5;124m\"\u001b[39m\u001b[38;5;124mis out of bounds.\u001b[39m\u001b[38;5;124m\"\u001b[39m\u001b[38;5;241m.\u001b[39mformat(elem_idx, elem\u001b[38;5;241m.\u001b[39mstart,\n\u001b[0;32m    498\u001b[0m                                        elem\u001b[38;5;241m.\u001b[39mstep, elem\u001b[38;5;241m.\u001b[39mstop))\n",
      "\u001b[1;31mIndexError\u001b[0m: stop element of index 0, slice(None, None, 200), is out of bounds."
     ]
    }
   ],
   "source": [
    "#It would take me around 170 hours to run evasion attack on the default configuration. \n",
    "\n",
    "noise_type = 'l2'  # Type of perturbation 'l1' or 'l2'\n",
    "dmax = 0.4  # Maximum perturbation\n",
    "lb, ub = 0, 1  # Bounds of the attack space. Can be set to `None` for unbounded\n",
    "y_target = 2  # `error-specific` attack. None for `error-generic`\n",
    "\n",
    "# Should be chosen depending on the optimization problem\n",
    "solver_params = {\n",
    "    'eta': 1e-1,\n",
    "    'eta_min': 0.1,\n",
    "    'eta_max': None,\n",
    "    'max_iter': 25,\n",
    "    'eps': 1e-1\n",
    "}\n",
    "\n",
    "from secml.adv.attacks.evasion import CAttackEvasionPGDLS\n",
    "pgd_ls_attack = CAttackEvasionPGDLS(\n",
    "    classifier=surr_clf.clf,\n",
    "    double_init_ds=tr1,\n",
    "    double_init=False,\n",
    "    distance=noise_type,\n",
    "    dmax=dmax,\n",
    "    lb=lb, ub=ub,\n",
    "    solver_params=solver_params,\n",
    "    y_target=y_target)\n",
    "\n",
    "#Again it is very computationally intensive, run a test on a small subset (1%) and check time\n",
    "smallerts = ts[100:300, :]\n",
    "\n",
    "# Run the evasion attack on x0\n",
    "print(\"Attack started...\")\n",
    "y_pred, scores, adv_ds, f_obj = pgd_ls_attack.run(smallerts.X, smallerts.Y)\n",
    "print(\"Attack complete!\")"
   ]
  },
  {
   "cell_type": "code",
   "execution_count": 21,
   "id": "bf6c5d40",
   "metadata": {},
   "outputs": [
    {
     "name": "stdout",
     "output_type": "stream",
     "text": [
      "\n",
      "Testing transferability of SVM Linear H\n",
      "Test error (no attack): 4.00%\n",
      "\n",
      "Testing transferability of SVM Linear L\n",
      "Test error (no attack): 4.00%\n"
     ]
    },
    {
     "data": {
      "image/png": "[encoded data removed]",
      "text/plain": [
       "<Figure size 600x100 with 1 Axes>"
      ]
     },
     "metadata": {},
     "output_type": "display_data"
    },
    {
     "name": "stdout",
     "output_type": "stream",
     "text": [
      "\n",
      "Average transfer rate: 7.00%\n"
     ]
    }
   ],
   "source": [
    "# Metric to use for testing transferability\n",
    "from secml.ml.peval.metrics import CMetricTestError\n",
    "metric = CMetricTestError()\n",
    "\n",
    "trans_error = []\n",
    "transfer_rate = 0.0\n",
    "for target_clf in target_clf_list:\n",
    "\n",
    "    print(\"\\nTesting transferability of {:}\".format(target_clf.clf_name))\n",
    "\n",
    "    origin_error = metric.performance_score(\n",
    "            y_true=smallerts.Y, y_pred=target_clf.clf.predict(smallerts.X))\n",
    "\n",
    "    print(\"Test error (no attack): {:.2%}\".format(origin_error))\n",
    "\n",
    "    trans_error_clf = metric.performance_score(\n",
    "        y_true=smallerts.Y, y_pred=target_clf.clf.predict(adv_ds.X))\n",
    "\n",
    "    trans_error.append(trans_error_clf)\n",
    "    transfer_rate += trans_error_clf\n",
    "\n",
    "# Computing the transfer rate\n",
    "transfer_rate /= len(target_clf_list)\n",
    "\n",
    "from secml.array import CArray\n",
    "trans_acc = CArray(trans_error) * 100  # Show results in percentage\n",
    "\n",
    "from secml.figure import CFigure\n",
    "# Only required for visualization in notebooks\n",
    "%matplotlib inline\n",
    "\n",
    "fig = CFigure(height=1)\n",
    "a = fig.sp.imshow(trans_acc.reshape((1, len(target_clf_list))),\n",
    "                  cmap='Oranges', interpolation='nearest',\n",
    "                  alpha=.65, vmin=60, vmax=70)\n",
    "\n",
    "fig.sp.xticks(CArray.arange((len(target_clf_list))))\n",
    "fig.sp.xticklabels([c.clf_name for c in target_clf_list],\n",
    "                   rotation=45, ha=\"right\", rotation_mode=\"anchor\")\n",
    "fig.sp.yticks([0])\n",
    "fig.sp.yticklabels([surr_clf.clf_name])\n",
    "\n",
    "for i in range(len(target_clf_list)):\n",
    "    fig.sp.text(i, 0, trans_acc[i].round(2).item(), va='center', ha='center')\n",
    "\n",
    "fig.sp.title(\"Test error of target classifiers under attack (%)\")\n",
    "\n",
    "fig.show()\n",
    "\n",
    "print(\"\\nAverage transfer rate: {:.2%}\".format(transfer_rate))"
   ]
  },
  {
   "cell_type": "markdown",
   "id": "198b8e6a",
   "metadata": {},
   "source": [
    "Here I changed hardcoded 6 elements into len(target_clf_list), because at the moment one of the classifiers does not work."
   ]
  },
  {
   "cell_type": "code",
   "execution_count": 13,
   "id": "d963dfea",
   "metadata": {},
   "outputs": [
    {
     "ename": "ValueError",
     "evalue": "shapes (2500,2) and (784,711) not aligned: 2 (dim 1) != 784 (dim 0)",
     "output_type": "error",
     "traceback": [
      "\u001b[1;31m---------------------------------------------------------------------------\u001b[0m",
      "\u001b[1;31mValueError\u001b[0m                                Traceback (most recent call last)",
      "Cell \u001b[1;32mIn[13], line 13\u001b[0m\n\u001b[0;32m     10\u001b[0m fig\u001b[38;5;241m.\u001b[39msubplot(\u001b[38;5;241m2\u001b[39m, \u001b[38;5;28mint\u001b[39m(ceil(\u001b[38;5;28mlen\u001b[39m(target_clf_list) \u001b[38;5;241m/\u001b[39m \u001b[38;5;241m2\u001b[39m)), clf_idx \u001b[38;5;241m+\u001b[39m \u001b[38;5;241m1\u001b[39m)\n\u001b[0;32m     11\u001b[0m fig\u001b[38;5;241m.\u001b[39msp\u001b[38;5;241m.\u001b[39mtitle(target_clf_list[clf_idx]\u001b[38;5;241m.\u001b[39mclf_name)\n\u001b[1;32m---> 13\u001b[0m \u001b[43mfig\u001b[49m\u001b[38;5;241;43m.\u001b[39;49m\u001b[43msp\u001b[49m\u001b[38;5;241;43m.\u001b[39;49m\u001b[43mplot_decision_regions\u001b[49m\u001b[43m(\u001b[49m\u001b[43mclf\u001b[49m\u001b[43m,\u001b[49m\u001b[43m \u001b[49m\u001b[43mn_grid_points\u001b[49m\u001b[38;5;241;43m=\u001b[39;49m\u001b[38;5;241;43m50\u001b[39;49m\u001b[43m)\u001b[49m\n\u001b[0;32m     14\u001b[0m fig\u001b[38;5;241m.\u001b[39msp\u001b[38;5;241m.\u001b[39mgrid(grid_on\u001b[38;5;241m=\u001b[39m\u001b[38;5;28;01mFalse\u001b[39;00m)\n\u001b[0;32m     16\u001b[0m s_idx \u001b[38;5;241m=\u001b[39m ts\u001b[38;5;241m.\u001b[39mY\u001b[38;5;241m.\u001b[39mfind(ts\u001b[38;5;241m.\u001b[39mY \u001b[38;5;241m!=\u001b[39m y_target)\n",
      "File \u001b[1;32mD:\\Anaconda\\lib\\site-packages\\secml\\figure\\_plots\\c_plot_classifier.py:72\u001b[0m, in \u001b[0;36mCPlotClassifier.plot_decision_regions\u001b[1;34m(self, clf, plot_background, levels, grid_limits, n_grid_points, cmap)\u001b[0m\n\u001b[0;32m     69\u001b[0m \u001b[38;5;28;01mif\u001b[39;00m levels \u001b[38;5;129;01mis\u001b[39;00m \u001b[38;5;28;01mNone\u001b[39;00m:\n\u001b[0;32m     70\u001b[0m     levels \u001b[38;5;241m=\u001b[39m CArray\u001b[38;5;241m.\u001b[39marange(\u001b[38;5;241m0.5\u001b[39m, clf\u001b[38;5;241m.\u001b[39mn_classes)\u001b[38;5;241m.\u001b[39mtolist()\n\u001b[1;32m---> 72\u001b[0m \u001b[38;5;28;43mself\u001b[39;49m\u001b[38;5;241;43m.\u001b[39;49m\u001b[43mplot_fun\u001b[49m\u001b[43m(\u001b[49m\u001b[43mfunc\u001b[49m\u001b[38;5;241;43m=\u001b[39;49m\u001b[43mclf\u001b[49m\u001b[38;5;241;43m.\u001b[39;49m\u001b[43mpredict\u001b[49m\u001b[43m,\u001b[49m\n\u001b[0;32m     73\u001b[0m \u001b[43m              \u001b[49m\u001b[43mmultipoint\u001b[49m\u001b[38;5;241;43m=\u001b[39;49m\u001b[38;5;28;43;01mTrue\u001b[39;49;00m\u001b[43m,\u001b[49m\n\u001b[0;32m     74\u001b[0m \u001b[43m              \u001b[49m\u001b[43mcolorbar\u001b[49m\u001b[38;5;241;43m=\u001b[39;49m\u001b[38;5;28;43;01mFalse\u001b[39;49;00m\u001b[43m,\u001b[49m\n\u001b[0;32m     75\u001b[0m \u001b[43m              \u001b[49m\u001b[43mn_colors\u001b[49m\u001b[38;5;241;43m=\u001b[39;49m\u001b[43mclf\u001b[49m\u001b[38;5;241;43m.\u001b[39;49m\u001b[43mn_classes\u001b[49m\u001b[43m,\u001b[49m\n\u001b[0;32m     76\u001b[0m \u001b[43m              \u001b[49m\u001b[43mcmap\u001b[49m\u001b[38;5;241;43m=\u001b[39;49m\u001b[43mcmap\u001b[49m\u001b[43m,\u001b[49m\n\u001b[0;32m     77\u001b[0m \u001b[43m              \u001b[49m\u001b[43mlevels\u001b[49m\u001b[38;5;241;43m=\u001b[39;49m\u001b[43mlevels\u001b[49m\u001b[43m,\u001b[49m\n\u001b[0;32m     78\u001b[0m \u001b[43m              \u001b[49m\u001b[43mplot_background\u001b[49m\u001b[38;5;241;43m=\u001b[39;49m\u001b[43mplot_background\u001b[49m\u001b[43m,\u001b[49m\n\u001b[0;32m     79\u001b[0m \u001b[43m              \u001b[49m\u001b[43mgrid_limits\u001b[49m\u001b[38;5;241;43m=\u001b[39;49m\u001b[43mgrid_limits\u001b[49m\u001b[43m,\u001b[49m\n\u001b[0;32m     80\u001b[0m \u001b[43m              \u001b[49m\u001b[43mn_grid_points\u001b[49m\u001b[38;5;241;43m=\u001b[39;49m\u001b[43mn_grid_points\u001b[49m\u001b[43m,\u001b[49m\n\u001b[0;32m     81\u001b[0m \u001b[43m              \u001b[49m\u001b[43malpha\u001b[49m\u001b[38;5;241;43m=\u001b[39;49m\u001b[38;5;241;43m0.5\u001b[39;49m\u001b[43m)\u001b[49m\n\u001b[0;32m     83\u001b[0m \u001b[38;5;28mself\u001b[39m\u001b[38;5;241m.\u001b[39mapply_params_clf()\n",
      "File \u001b[1;32mD:\\Anaconda\\lib\\site-packages\\secml\\figure\\_plots\\c_plot_fun.py:113\u001b[0m, in \u001b[0;36mCPlotFunction.plot_fun\u001b[1;34m(self, func, multipoint, plot_background, plot_levels, levels, levels_color, levels_style, levels_linewidth, n_colors, cmap, alpha, alpha_levels, vmin, vmax, colorbar, n_grid_points, grid_limits, func_args, **func_kwargs)\u001b[0m\n\u001b[0;32m    111\u001b[0m \u001b[38;5;66;03m# Evaluate function on each grid point\u001b[39;00m\n\u001b[0;32m    112\u001b[0m \u001b[38;5;28;01mif\u001b[39;00m multipoint \u001b[38;5;129;01mis\u001b[39;00m \u001b[38;5;28;01mTrue\u001b[39;00m:\n\u001b[1;32m--> 113\u001b[0m     grid_points_value \u001b[38;5;241m=\u001b[39m \u001b[43mfunc\u001b[49m\u001b[43m(\u001b[49m\n\u001b[0;32m    114\u001b[0m \u001b[43m        \u001b[49m\u001b[43mpad_grid_point_features\u001b[49m\u001b[43m,\u001b[49m\u001b[43m \u001b[49m\u001b[38;5;241;43m*\u001b[39;49m\u001b[43mfunc_args\u001b[49m\u001b[43m,\u001b[49m\u001b[43m \u001b[49m\u001b[38;5;241;43m*\u001b[39;49m\u001b[38;5;241;43m*\u001b[39;49m\u001b[43mfunc_kwargs\u001b[49m\u001b[43m)\u001b[49m\n\u001b[0;32m    115\u001b[0m \u001b[38;5;28;01melse\u001b[39;00m:\n\u001b[0;32m    116\u001b[0m     grid_points_value \u001b[38;5;241m=\u001b[39m pad_grid_point_features\u001b[38;5;241m.\u001b[39mapply_along_axis(\n\u001b[0;32m    117\u001b[0m         func, \u001b[38;5;241m1\u001b[39m, \u001b[38;5;241m*\u001b[39mfunc_args, \u001b[38;5;241m*\u001b[39m\u001b[38;5;241m*\u001b[39mfunc_kwargs)\n",
      "File \u001b[1;32mD:\\Anaconda\\lib\\site-packages\\secml\\ml\\classifiers\\c_classifier.py:293\u001b[0m, in \u001b[0;36mCClassifier.predict\u001b[1;34m(self, x, return_decision_function)\u001b[0m\n\u001b[0;32m    266\u001b[0m \u001b[38;5;28;01mdef\u001b[39;00m \u001b[38;5;21mpredict\u001b[39m(\u001b[38;5;28mself\u001b[39m, x, return_decision_function\u001b[38;5;241m=\u001b[39m\u001b[38;5;28;01mFalse\u001b[39;00m):\n\u001b[0;32m    267\u001b[0m \u001b[38;5;250m    \u001b[39m\u001b[38;5;124;03m\"\"\"Perform classification of each pattern in x.\u001b[39;00m\n\u001b[0;32m    268\u001b[0m \n\u001b[0;32m    269\u001b[0m \u001b[38;5;124;03m    If preprocess has been specified,\u001b[39;00m\n\u001b[1;32m   (...)\u001b[0m\n\u001b[0;32m    291\u001b[0m \n\u001b[0;32m    292\u001b[0m \u001b[38;5;124;03m    \"\"\"\u001b[39;00m\n\u001b[1;32m--> 293\u001b[0m     scores \u001b[38;5;241m=\u001b[39m \u001b[38;5;28;43mself\u001b[39;49m\u001b[38;5;241;43m.\u001b[39;49m\u001b[43mdecision_function\u001b[49m\u001b[43m(\u001b[49m\u001b[43mx\u001b[49m\u001b[43m,\u001b[49m\u001b[43m \u001b[49m\u001b[43my\u001b[49m\u001b[38;5;241;43m=\u001b[39;49m\u001b[38;5;28;43;01mNone\u001b[39;49;00m\u001b[43m)\u001b[49m\n\u001b[0;32m    295\u001b[0m     \u001b[38;5;66;03m# The classification label is the label of the class\u001b[39;00m\n\u001b[0;32m    296\u001b[0m     \u001b[38;5;66;03m# associated with the highest score\u001b[39;00m\n\u001b[0;32m    297\u001b[0m     labels \u001b[38;5;241m=\u001b[39m scores\u001b[38;5;241m.\u001b[39margmax(axis\u001b[38;5;241m=\u001b[39m\u001b[38;5;241m1\u001b[39m)\u001b[38;5;241m.\u001b[39mravel()\n",
      "File \u001b[1;32mD:\\Anaconda\\lib\\site-packages\\secml\\ml\\classifiers\\c_classifier.py:222\u001b[0m, in \u001b[0;36mCClassifier.decision_function\u001b[1;34m(self, x, y)\u001b[0m\n\u001b[0;32m    194\u001b[0m \u001b[38;5;28;01mdef\u001b[39;00m \u001b[38;5;21mdecision_function\u001b[39m(\u001b[38;5;28mself\u001b[39m, x, y\u001b[38;5;241m=\u001b[39m\u001b[38;5;28;01mNone\u001b[39;00m):\n\u001b[0;32m    195\u001b[0m \u001b[38;5;250m    \u001b[39m\u001b[38;5;124;03m\"\"\"Computes the decision function for each pattern in x.\u001b[39;00m\n\u001b[0;32m    196\u001b[0m \n\u001b[0;32m    197\u001b[0m \u001b[38;5;124;03m    If a preprocess has been specified, input is normalized\u001b[39;00m\n\u001b[1;32m   (...)\u001b[0m\n\u001b[0;32m    220\u001b[0m \n\u001b[0;32m    221\u001b[0m \u001b[38;5;124;03m    \"\"\"\u001b[39;00m\n\u001b[1;32m--> 222\u001b[0m     scores \u001b[38;5;241m=\u001b[39m \u001b[38;5;28;43mself\u001b[39;49m\u001b[38;5;241;43m.\u001b[39;49m\u001b[43mforward\u001b[49m\u001b[43m(\u001b[49m\u001b[43mx\u001b[49m\u001b[43m,\u001b[49m\u001b[43m \u001b[49m\u001b[43mcaching\u001b[49m\u001b[38;5;241;43m=\u001b[39;49m\u001b[38;5;28;43;01mFalse\u001b[39;49;00m\u001b[43m)\u001b[49m\n\u001b[0;32m    223\u001b[0m     \u001b[38;5;28;01mreturn\u001b[39;00m scores \u001b[38;5;28;01mif\u001b[39;00m y \u001b[38;5;129;01mis\u001b[39;00m \u001b[38;5;28;01mNone\u001b[39;00m \u001b[38;5;28;01melse\u001b[39;00m scores[:, y]\u001b[38;5;241m.\u001b[39mravel()\n",
      "File \u001b[1;32mD:\\Anaconda\\lib\\site-packages\\secml\\ml\\c_module.py:204\u001b[0m, in \u001b[0;36mCModule.forward\u001b[1;34m(self, x, caching)\u001b[0m\n\u001b[0;32m    202\u001b[0m \u001b[38;5;66;03m# Transform data using inner preprocess, if defined\u001b[39;00m\n\u001b[0;32m    203\u001b[0m x \u001b[38;5;241m=\u001b[39m \u001b[38;5;28mself\u001b[39m\u001b[38;5;241m.\u001b[39m_forward_preprocess(x\u001b[38;5;241m=\u001b[39mx, caching\u001b[38;5;241m=\u001b[39mcaching)\n\u001b[1;32m--> 204\u001b[0m \u001b[38;5;28;01mreturn\u001b[39;00m \u001b[38;5;28;43mself\u001b[39;49m\u001b[38;5;241;43m.\u001b[39;49m\u001b[43m_forward\u001b[49m\u001b[43m(\u001b[49m\u001b[43mx\u001b[49m\u001b[43m)\u001b[49m\n",
      "File \u001b[1;32mD:\\Anaconda\\lib\\site-packages\\secml\\ml\\classifiers\\multiclass\\c_classifier_multi_ova.py:182\u001b[0m, in \u001b[0;36mCClassifierMulticlassOVA._forward\u001b[1;34m(self, x)\u001b[0m\n\u001b[0;32m    179\u001b[0m scores \u001b[38;5;241m=\u001b[39m CArray\u001b[38;5;241m.\u001b[39mempty(shape\u001b[38;5;241m=\u001b[39m(x\u001b[38;5;241m.\u001b[39mshape[\u001b[38;5;241m0\u001b[39m], \u001b[38;5;28mself\u001b[39m\u001b[38;5;241m.\u001b[39mn_classes))\n\u001b[0;32m    181\u001b[0m \u001b[38;5;66;03m# Discriminant function is now called for each different class\u001b[39;00m\n\u001b[1;32m--> 182\u001b[0m res \u001b[38;5;241m=\u001b[39m \u001b[43mparfor2\u001b[49m\u001b[43m(\u001b[49m\u001b[43m_forward_one_ova\u001b[49m\u001b[43m,\u001b[49m\n\u001b[0;32m    183\u001b[0m \u001b[43m              \u001b[49m\u001b[38;5;28;43mself\u001b[39;49m\u001b[38;5;241;43m.\u001b[39;49m\u001b[43mn_classes\u001b[49m\u001b[43m,\u001b[49m\n\u001b[0;32m    184\u001b[0m \u001b[43m              \u001b[49m\u001b[38;5;28;43mself\u001b[39;49m\u001b[38;5;241;43m.\u001b[39;49m\u001b[43mn_jobs\u001b[49m\u001b[43m,\u001b[49m\u001b[43m \u001b[49m\u001b[38;5;28;43mself\u001b[39;49m\u001b[43m,\u001b[49m\u001b[43m \u001b[49m\u001b[43mx\u001b[49m\u001b[43m,\u001b[49m\n\u001b[0;32m    185\u001b[0m \u001b[43m              \u001b[49m\u001b[38;5;28;43mself\u001b[39;49m\u001b[38;5;241;43m.\u001b[39;49m\u001b[43mverbose\u001b[49m\u001b[43m)\u001b[49m\n\u001b[0;32m    187\u001b[0m \u001b[38;5;66;03m# Building results array\u001b[39;00m\n\u001b[0;32m    188\u001b[0m \u001b[38;5;28;01mfor\u001b[39;00m i \u001b[38;5;129;01min\u001b[39;00m \u001b[38;5;28mrange\u001b[39m(\u001b[38;5;28mself\u001b[39m\u001b[38;5;241m.\u001b[39mn_classes):\n",
      "File \u001b[1;32mD:\\Anaconda\\lib\\site-packages\\secml\\parallel\\parfor.py:65\u001b[0m, in \u001b[0;36mparfor2\u001b[1;34m(task, n_reps, processes, *args)\u001b[0m\n\u001b[0;32m     62\u001b[0m \u001b[38;5;66;03m# Don't try to spawn more processes than available CPUs\u001b[39;00m\n\u001b[0;32m     63\u001b[0m num_cores \u001b[38;5;241m=\u001b[39m \u001b[38;5;28mmin\u001b[39m(cpu_count(), processes)\n\u001b[1;32m---> 65\u001b[0m \u001b[38;5;28;01mreturn\u001b[39;00m \u001b[43mParallel\u001b[49m\u001b[43m(\u001b[49m\u001b[43mn_jobs\u001b[49m\u001b[38;5;241;43m=\u001b[39;49m\u001b[43mnum_cores\u001b[49m\u001b[43m,\u001b[49m\u001b[43m \u001b[49m\u001b[43mbackend\u001b[49m\u001b[38;5;241;43m=\u001b[39;49m\u001b[38;5;124;43m'\u001b[39;49m\u001b[38;5;124;43mmultiprocessing\u001b[39;49m\u001b[38;5;124;43m'\u001b[39;49m\u001b[43m)\u001b[49m\u001b[43m(\u001b[49m\n\u001b[0;32m     66\u001b[0m \u001b[43m    \u001b[49m\u001b[43mdelayed\u001b[49m\u001b[43m(\u001b[49m\u001b[43mtask\u001b[49m\u001b[43m)\u001b[49m\u001b[43m(\u001b[49m\u001b[43mi\u001b[49m\u001b[43m,\u001b[49m\u001b[43m \u001b[49m\u001b[38;5;241;43m*\u001b[39;49m\u001b[43margs\u001b[49m\u001b[43m)\u001b[49m\u001b[43m \u001b[49m\u001b[38;5;28;43;01mfor\u001b[39;49;00m\u001b[43m \u001b[49m\u001b[43mi\u001b[49m\u001b[43m \u001b[49m\u001b[38;5;129;43;01min\u001b[39;49;00m\u001b[43m \u001b[49m\u001b[38;5;28;43mrange\u001b[39;49m\u001b[43m(\u001b[49m\u001b[43mn_reps\u001b[49m\u001b[43m)\u001b[49m\u001b[43m)\u001b[49m\n",
      "File \u001b[1;32mD:\\Anaconda\\lib\\site-packages\\joblib\\parallel.py:1863\u001b[0m, in \u001b[0;36mParallel.__call__\u001b[1;34m(self, iterable)\u001b[0m\n\u001b[0;32m   1861\u001b[0m     output \u001b[38;5;241m=\u001b[39m \u001b[38;5;28mself\u001b[39m\u001b[38;5;241m.\u001b[39m_get_sequential_output(iterable)\n\u001b[0;32m   1862\u001b[0m     \u001b[38;5;28mnext\u001b[39m(output)\n\u001b[1;32m-> 1863\u001b[0m     \u001b[38;5;28;01mreturn\u001b[39;00m output \u001b[38;5;28;01mif\u001b[39;00m \u001b[38;5;28mself\u001b[39m\u001b[38;5;241m.\u001b[39mreturn_generator \u001b[38;5;28;01melse\u001b[39;00m \u001b[38;5;28;43mlist\u001b[39;49m\u001b[43m(\u001b[49m\u001b[43moutput\u001b[49m\u001b[43m)\u001b[49m\n\u001b[0;32m   1865\u001b[0m \u001b[38;5;66;03m# Let's create an ID that uniquely identifies the current call. If the\u001b[39;00m\n\u001b[0;32m   1866\u001b[0m \u001b[38;5;66;03m# call is interrupted early and that the same instance is immediately\u001b[39;00m\n\u001b[0;32m   1867\u001b[0m \u001b[38;5;66;03m# re-used, this id will be used to prevent workers that were\u001b[39;00m\n\u001b[0;32m   1868\u001b[0m \u001b[38;5;66;03m# concurrently finalizing a task from the previous call to run the\u001b[39;00m\n\u001b[0;32m   1869\u001b[0m \u001b[38;5;66;03m# callback.\u001b[39;00m\n\u001b[0;32m   1870\u001b[0m \u001b[38;5;28;01mwith\u001b[39;00m \u001b[38;5;28mself\u001b[39m\u001b[38;5;241m.\u001b[39m_lock:\n",
      "File \u001b[1;32mD:\\Anaconda\\lib\\site-packages\\joblib\\parallel.py:1792\u001b[0m, in \u001b[0;36mParallel._get_sequential_output\u001b[1;34m(self, iterable)\u001b[0m\n\u001b[0;32m   1790\u001b[0m \u001b[38;5;28mself\u001b[39m\u001b[38;5;241m.\u001b[39mn_dispatched_batches \u001b[38;5;241m+\u001b[39m\u001b[38;5;241m=\u001b[39m \u001b[38;5;241m1\u001b[39m\n\u001b[0;32m   1791\u001b[0m \u001b[38;5;28mself\u001b[39m\u001b[38;5;241m.\u001b[39mn_dispatched_tasks \u001b[38;5;241m+\u001b[39m\u001b[38;5;241m=\u001b[39m \u001b[38;5;241m1\u001b[39m\n\u001b[1;32m-> 1792\u001b[0m res \u001b[38;5;241m=\u001b[39m \u001b[43mfunc\u001b[49m\u001b[43m(\u001b[49m\u001b[38;5;241;43m*\u001b[39;49m\u001b[43margs\u001b[49m\u001b[43m,\u001b[49m\u001b[43m \u001b[49m\u001b[38;5;241;43m*\u001b[39;49m\u001b[38;5;241;43m*\u001b[39;49m\u001b[43mkwargs\u001b[49m\u001b[43m)\u001b[49m\n\u001b[0;32m   1793\u001b[0m \u001b[38;5;28mself\u001b[39m\u001b[38;5;241m.\u001b[39mn_completed_tasks \u001b[38;5;241m+\u001b[39m\u001b[38;5;241m=\u001b[39m \u001b[38;5;241m1\u001b[39m\n\u001b[0;32m   1794\u001b[0m \u001b[38;5;28mself\u001b[39m\u001b[38;5;241m.\u001b[39mprint_progress()\n",
      "File \u001b[1;32mD:\\Anaconda\\lib\\site-packages\\secml\\ml\\classifiers\\multiclass\\c_classifier_multi_ova.py:77\u001b[0m, in \u001b[0;36m_forward_one_ova\u001b[1;34m(tr_class_idx, multi_ova, test_x, verbose)\u001b[0m\n\u001b[0;32m     73\u001b[0m multi_ova\u001b[38;5;241m.\u001b[39mlogger\u001b[38;5;241m.\u001b[39minfo(\n\u001b[0;32m     74\u001b[0m     \u001b[38;5;124m\"\u001b[39m\u001b[38;5;124mForward for class: \u001b[39m\u001b[38;5;132;01m{:}\u001b[39;00m\u001b[38;5;124m\"\u001b[39m\u001b[38;5;241m.\u001b[39mformat(tr_class_idx))\n\u001b[0;32m     76\u001b[0m \u001b[38;5;66;03m# Perform forward on data for current class classifier\u001b[39;00m\n\u001b[1;32m---> 77\u001b[0m \u001b[38;5;28;01mreturn\u001b[39;00m \u001b[43mmulti_ova\u001b[49m\u001b[38;5;241;43m.\u001b[39;49m\u001b[43m_binary_classifiers\u001b[49m\u001b[43m[\u001b[49m\u001b[43mtr_class_idx\u001b[49m\u001b[43m]\u001b[49m\u001b[38;5;241;43m.\u001b[39;49m\u001b[43mforward\u001b[49m\u001b[43m(\u001b[49m\u001b[43mtest_x\u001b[49m\u001b[43m)\u001b[49m[:, \u001b[38;5;241m1\u001b[39m]\n",
      "File \u001b[1;32mD:\\Anaconda\\lib\\site-packages\\secml\\ml\\c_module.py:203\u001b[0m, in \u001b[0;36mCModule.forward\u001b[1;34m(self, x, caching)\u001b[0m\n\u001b[0;32m    200\u001b[0m \u001b[38;5;28mself\u001b[39m\u001b[38;5;241m.\u001b[39m_clear_cache()\n\u001b[0;32m    202\u001b[0m \u001b[38;5;66;03m# Transform data using inner preprocess, if defined\u001b[39;00m\n\u001b[1;32m--> 203\u001b[0m x \u001b[38;5;241m=\u001b[39m \u001b[38;5;28;43mself\u001b[39;49m\u001b[38;5;241;43m.\u001b[39;49m\u001b[43m_forward_preprocess\u001b[49m\u001b[43m(\u001b[49m\u001b[43mx\u001b[49m\u001b[38;5;241;43m=\u001b[39;49m\u001b[43mx\u001b[49m\u001b[43m,\u001b[49m\u001b[43m \u001b[49m\u001b[43mcaching\u001b[49m\u001b[38;5;241;43m=\u001b[39;49m\u001b[43mcaching\u001b[49m\u001b[43m)\u001b[49m\n\u001b[0;32m    204\u001b[0m \u001b[38;5;28;01mreturn\u001b[39;00m \u001b[38;5;28mself\u001b[39m\u001b[38;5;241m.\u001b[39m_forward(x)\n",
      "File \u001b[1;32mD:\\Anaconda\\lib\\site-packages\\secml\\ml\\c_module.py:166\u001b[0m, in \u001b[0;36mCModule._forward_preprocess\u001b[1;34m(self, x, caching)\u001b[0m\n\u001b[0;32m    142\u001b[0m \u001b[38;5;250m\u001b[39m\u001b[38;5;124;03m\"\"\"Runs forward through the pre-processing chain,\u001b[39;00m\n\u001b[0;32m    143\u001b[0m \u001b[38;5;124;03mpreparing the input for `_forward` and `_backward`.\u001b[39;00m\n\u001b[0;32m    144\u001b[0m \n\u001b[1;32m   (...)\u001b[0m\n\u001b[0;32m    162\u001b[0m \n\u001b[0;32m    163\u001b[0m \u001b[38;5;124;03m\"\"\"\u001b[39;00m\n\u001b[0;32m    164\u001b[0m \u001b[38;5;28;01mif\u001b[39;00m \u001b[38;5;28mself\u001b[39m\u001b[38;5;241m.\u001b[39mpreprocess \u001b[38;5;129;01mis\u001b[39;00m \u001b[38;5;129;01mnot\u001b[39;00m \u001b[38;5;28;01mNone\u001b[39;00m:\n\u001b[0;32m    165\u001b[0m     \u001b[38;5;66;03m# apply pre-processing to x\u001b[39;00m\n\u001b[1;32m--> 166\u001b[0m     x_prc \u001b[38;5;241m=\u001b[39m \u001b[38;5;28;43mself\u001b[39;49m\u001b[38;5;241;43m.\u001b[39;49m\u001b[43mpreprocess\u001b[49m\u001b[38;5;241;43m.\u001b[39;49m\u001b[43mforward\u001b[49m\u001b[43m(\u001b[49m\u001b[43mx\u001b[49m\u001b[43m)\u001b[49m\n\u001b[0;32m    167\u001b[0m \u001b[38;5;28;01melse\u001b[39;00m:\n\u001b[0;32m    168\u001b[0m     \u001b[38;5;66;03m# use directly x as input to this module\u001b[39;00m\n\u001b[0;32m    169\u001b[0m     x_prc \u001b[38;5;241m=\u001b[39m x\n",
      "File \u001b[1;32mD:\\Anaconda\\lib\\site-packages\\secml\\ml\\c_module.py:204\u001b[0m, in \u001b[0;36mCModule.forward\u001b[1;34m(self, x, caching)\u001b[0m\n\u001b[0;32m    202\u001b[0m \u001b[38;5;66;03m# Transform data using inner preprocess, if defined\u001b[39;00m\n\u001b[0;32m    203\u001b[0m x \u001b[38;5;241m=\u001b[39m \u001b[38;5;28mself\u001b[39m\u001b[38;5;241m.\u001b[39m_forward_preprocess(x\u001b[38;5;241m=\u001b[39mx, caching\u001b[38;5;241m=\u001b[39mcaching)\n\u001b[1;32m--> 204\u001b[0m \u001b[38;5;28;01mreturn\u001b[39;00m \u001b[38;5;28;43mself\u001b[39;49m\u001b[38;5;241;43m.\u001b[39;49m\u001b[43m_forward\u001b[49m\u001b[43m(\u001b[49m\u001b[43mx\u001b[49m\u001b[43m)\u001b[49m\n",
      "File \u001b[1;32mD:\\Anaconda\\lib\\site-packages\\secml\\ml\\kernels\\c_kernel_linear.py:56\u001b[0m, in \u001b[0;36mCKernelLinear._forward\u001b[1;34m(self, x)\u001b[0m\n\u001b[0;32m     42\u001b[0m \u001b[38;5;28;01mdef\u001b[39;00m \u001b[38;5;21m_forward\u001b[39m(\u001b[38;5;28mself\u001b[39m, x):\n\u001b[0;32m     43\u001b[0m \u001b[38;5;250m    \u001b[39m\u001b[38;5;124;03m\"\"\"Compute the linear kernel between x and cached rv.\u001b[39;00m\n\u001b[0;32m     44\u001b[0m \n\u001b[0;32m     45\u001b[0m \u001b[38;5;124;03m    Parameters\u001b[39;00m\n\u001b[1;32m   (...)\u001b[0m\n\u001b[0;32m     54\u001b[0m \n\u001b[0;32m     55\u001b[0m \u001b[38;5;124;03m    \"\"\"\u001b[39;00m\n\u001b[1;32m---> 56\u001b[0m     \u001b[38;5;28;01mreturn\u001b[39;00m CArray(\u001b[43mx\u001b[49m\u001b[38;5;241;43m.\u001b[39;49m\u001b[43mdot\u001b[49m\u001b[43m(\u001b[49m\u001b[38;5;28;43mself\u001b[39;49m\u001b[38;5;241;43m.\u001b[39;49m\u001b[43mrv\u001b[49m\u001b[38;5;241;43m.\u001b[39;49m\u001b[43mT\u001b[49m\u001b[43m)\u001b[49m)\n",
      "File \u001b[1;32mD:\\Anaconda\\lib\\site-packages\\secml\\array\\c_array.py:4784\u001b[0m, in \u001b[0;36mCArray.dot\u001b[1;34m(self, array)\u001b[0m\n\u001b[0;32m   4782\u001b[0m     \u001b[38;5;28;01mreturn\u001b[39;00m _instance_data(\u001b[38;5;28mself\u001b[39m\u001b[38;5;241m.\u001b[39m_data\u001b[38;5;241m.\u001b[39mdot(array\u001b[38;5;241m.\u001b[39mtodense()\u001b[38;5;241m.\u001b[39m_data))\n\u001b[0;32m   4783\u001b[0m \u001b[38;5;28;01melse\u001b[39;00m:\n\u001b[1;32m-> 4784\u001b[0m     \u001b[38;5;28;01mreturn\u001b[39;00m _instance_data(\u001b[38;5;28;43mself\u001b[39;49m\u001b[38;5;241;43m.\u001b[39;49m\u001b[43m_data\u001b[49m\u001b[38;5;241;43m.\u001b[39;49m\u001b[43mdot\u001b[49m\u001b[43m(\u001b[49m\u001b[43marray\u001b[49m\u001b[38;5;241;43m.\u001b[39;49m\u001b[43m_data\u001b[49m\u001b[43m)\u001b[49m)\n",
      "File \u001b[1;32mD:\\Anaconda\\lib\\site-packages\\secml\\array\\c_dense.py:1789\u001b[0m, in \u001b[0;36mCDense.dot\u001b[1;34m(self, array)\u001b[0m\n\u001b[0;32m   1786\u001b[0m     array1 \u001b[38;5;241m=\u001b[39m \u001b[38;5;28mself\u001b[39m\n\u001b[0;32m   1787\u001b[0m     array2 \u001b[38;5;241m=\u001b[39m array\n\u001b[1;32m-> 1789\u001b[0m \u001b[38;5;28;01mreturn\u001b[39;00m \u001b[38;5;28mself\u001b[39m\u001b[38;5;241m.\u001b[39m\u001b[38;5;18m__class__\u001b[39m(\u001b[43mnp\u001b[49m\u001b[38;5;241;43m.\u001b[39;49m\u001b[43mdot\u001b[49m\u001b[43m(\u001b[49m\u001b[43marray1\u001b[49m\u001b[38;5;241;43m.\u001b[39;49m\u001b[43mtondarray\u001b[49m\u001b[43m(\u001b[49m\u001b[43m)\u001b[49m\u001b[43m,\u001b[49m\u001b[43m \u001b[49m\u001b[43marray2\u001b[49m\u001b[38;5;241;43m.\u001b[39;49m\u001b[43mtondarray\u001b[49m\u001b[43m(\u001b[49m\u001b[43m)\u001b[49m\u001b[43m)\u001b[49m)\n",
      "File \u001b[1;32m<__array_function__ internals>:200\u001b[0m, in \u001b[0;36mdot\u001b[1;34m(*args, **kwargs)\u001b[0m\n",
      "\u001b[1;31mValueError\u001b[0m: shapes (2500,2) and (784,711) not aligned: 2 (dim 1) != 784 (dim 0)"
     ]
    },
    {
     "data": {
      "image/png": "[encoded data removed]",
      "text/plain": [
       "<Figure size 450x800 with 1 Axes>"
      ]
     },
     "metadata": {},
     "output_type": "display_data"
    }
   ],
   "source": [
    "from secml.figure import CFigure\n",
    "from secml.array import CArray\n",
    "from math import ceil\n",
    "fig = CFigure(width=4.5 * len(target_clf_list) / 2,\n",
    "              height=4 * 2, markersize=10)\n",
    "\n",
    "for clf_idx in range(len(target_clf_list)):\n",
    "    clf = target_clf_list[clf_idx].clf\n",
    "\n",
    "    fig.subplot(2, int(ceil(len(target_clf_list) / 2)), clf_idx + 1)\n",
    "    fig.sp.title(target_clf_list[clf_idx].clf_name)\n",
    "\n",
    "    fig.sp.plot_decision_regions(clf, n_grid_points=50)\n",
    "    fig.sp.grid(grid_on=False)\n",
    "\n",
    "    s_idx = ts.Y.find(ts.Y != y_target)\n",
    "\n",
    "    for pt in s_idx[:10]:  # Plot the translation of multiple adversarial samples\n",
    "        pt_segment = CArray.append(ts.X[pt, :], adv_ds.X[pt, :], axis=0)\n",
    "        fig.sp.plot_path(pt_segment)\n",
    "\n",
    "    acc = metric.performance_score(\n",
    "        y_true=ts[s_idx[:10], :].Y, y_pred=clf.predict(adv_ds[s_idx[:10], :].X))\n",
    "\n",
    "    fig.sp.text(0.01, 0.01, \"Transfer attack success: {:.1%}\".format(acc),\n",
    "                bbox=dict(facecolor='white'))\n",
    "\n",
    "fig.show()\n"
   ]
  },
  {
   "cell_type": "code",
   "execution_count": null,
   "id": "17eaeb4d",
   "metadata": {},
   "outputs": [],
   "source": []
  }
 ],
 "metadata": {
  "kernelspec": {
   "display_name": "Python 3 (ipykernel)",
   "language": "python",
   "name": "python3"
  },
  "language_info": {
   "codemirror_mode": {
    "name": "ipython",
    "version": 3
   },
   "file_extension": ".py",
   "mimetype": "text/x-python",
   "name": "python",
   "nbconvert_exporter": "python",
   "pygments_lexer": "ipython3",
   "version": "3.8.18"
  }
 },
 "nbformat": 4,
 "nbformat_minor": 5
}
