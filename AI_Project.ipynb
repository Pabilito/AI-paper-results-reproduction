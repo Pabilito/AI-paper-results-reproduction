{
 "cells": [
  {
   "cell_type": "markdown",
   "id": "87b5debb",
   "metadata": {},
   "source": [
    "Demontis, Ambra, et al. \"Why do adversarial attacks transfer? Explaining transferability of evasion and poisoning attacks.\" 28th USENIX security symposium (USENIX security 19). 2019.\n",
    "\n",
    "To reproduce the results, use this code from SecML library. Instead of the toy example with CDLRandomBlobs, you can load MNIST dataset from MNIST data loader and you can get DREBIN dataset here. \n",
    "\n",
    "\n",
    "Paper:https://www.usenix.org/system/files/sec19-demontis.pdf\n",
    "\n",
    "\n",
    "Useful links from the projectfile:\n",
    "\n",
    "https://secml.readthedocs.io/en/v0.15/tutorials/13-Android-Malware-Detection.html\n",
    "\n",
    "https://secml.readthedocs.io/en/v0.15/secml.data.loader.html#module-secml.data.loader.c_dataloader_mnist\n",
    "\n",
    "https://figshare.com/articles/dataset/Android_malware_dataset_for_machine_learning_2/5854653"
   ]
  },
  {
   "cell_type": "markdown",
   "id": "93b2c914",
   "metadata": {},
   "source": [
    "20-25 min for the presentation + 5-10 for questions\n",
    "\n",
    "Don't show code on the slides\n",
    "\n",
    "Present content of the paper + show what we have done with some graphs or tables\n",
    "\n",
    "Be curious - look for why results are different or play with some variables"
   ]
  },
  {
   "cell_type": "markdown",
   "id": "d890f68d",
   "metadata": {},
   "source": [
    "**Remember to run it in the conda - I have python 3.10 and I need 3.8 for secml**"
   ]
  },
  {
   "cell_type": "markdown",
   "id": "154ea96e",
   "metadata": {},
   "source": [
    "https://secml.readthedocs.io/en/v0.15/tutorials/04-Transferability.html\n",
    "\n",
    "This link seems more useful than the one with malware detection."
   ]
  },
  {
   "cell_type": "code",
   "execution_count": 26,
   "id": "c7891eb5",
   "metadata": {},
   "outputs": [],
   "source": [
    "#Load the dataset\n",
    "random_state = 999\n",
    "'''\n",
    "\n",
    "n_features = 2  # Number of features\n",
    "n_samples = 2250  # Number of samples\n",
    "centers = [[-2, 0], [2, -2], [2, 2]]  # Centers of the clusters\n",
    "cluster_std = 0.8  # Standard deviation of the clusters\n",
    "\n",
    "from secml.data.loader import CDLRandomBlobs\n",
    "dataset = CDLRandomBlobs(n_features=n_features,\n",
    "                         centers=centers,\n",
    "                         cluster_std=cluster_std,\n",
    "                         n_samples=n_samples,\n",
    "                         random_state=random_state).load()\n",
    "'''\n",
    "\n",
    "from secml.data.loader import CDataLoaderMNIST\n",
    "mnist_loader = CDataLoaderMNIST()\n",
    "tr = mnist_loader.load(ds='training', digits=(0, 1, 2, 3, 4, 5, 6, 7, 8, 9))\n",
    "ts = mnist_loader.load(ds='testing', digits=(0, 1, 2, 3, 4, 5, 6, 7, 8, 9))\n",
    "\n",
    "#This dataset is not normalized, so it has to be normalized similarly to blobs\n",
    "\n",
    "''' Blob code\n",
    "n_tr = 1000  # Number of training set samples\n",
    "n_ts = 250  # Number of test set samples\n",
    "\n",
    "# Split in training and test.\n",
    "from secml.data.splitter import CTrainTestSplit\n",
    "splitter = CTrainTestSplit(\n",
    "    train_size=2 * n_tr, test_size=n_ts, random_state=random_state)\n",
    "tr, ts = splitter.split(dataset)\n",
    "'''\n",
    "\n",
    "# Normalize the data\n",
    "from secml.ml.features import CNormalizerMinMax\n",
    "nmz = CNormalizerMinMax()\n",
    "tr.X = nmz.fit_transform(tr.X)\n",
    "ts.X = nmz.transform(ts.X)\n",
    "\n",
    "\n",
    "''' Blob code\n",
    "# Generate 2 training datasets for surrogate and target classifiers\n",
    "tr1 = tr[:n_tr, :]  # Source classifier training set\n",
    "tr2 = tr[n_tr:, :]  # Target classifier training set\n",
    "'''\n",
    "\n",
    "# Get the size of the training dataset\n",
    "num_samples, num_features = tr.X.shape\n",
    "tr1 = tr[:int(num_samples/2), :]  # Source classifier training set\n",
    "tr2 = tr[int(num_samples/2):, :]  # Target classifier training set"
   ]
  },
  {
   "cell_type": "code",
   "execution_count": 9,
   "id": "02870bac",
   "metadata": {},
   "outputs": [
    {
     "name": "stdout",
     "output_type": "stream",
     "text": [
      "\n",
      "Training the surrogate classifiers...\n",
      "Accuracy of the surrogate classifier on test set: 93.00%\n",
      "\n",
      "Training the target classifiers...\n"
     ]
    }
   ],
   "source": [
    "from collections import namedtuple\n",
    "CLF = namedtuple('CLF', 'clf_name clf xval_parameters')\n",
    "\n",
    "from secml.ml.classifiers.multiclass import CClassifierMulticlassOVA\n",
    "# Binary classifiers\n",
    "from secml.ml.classifiers import CClassifierSVM, CClassifierSGD\n",
    "# Natively-multiclass classifiers\n",
    "from secml.ml.classifiers import CClassifierKNN, CClassifierDecisionTree, CClassifierRandomForest\n",
    "\n",
    "# Let's create a 3-Fold data splitter\n",
    "from secml.data.splitter import CDataSplitterKFold\n",
    "xval_splitter = CDataSplitterKFold(num_folds=3, random_state=random_state)\n",
    "\n",
    "# Metric to use for training and performance evaluation\n",
    "from secml.ml.peval.metrics import CMetricAccuracy\n",
    "metric = CMetricAccuracy()\n",
    "\n",
    "surr_clf = CLF(\n",
    "    clf_name='SVM Linear H',\n",
    "    clf=CClassifierMulticlassOVA(CClassifierSVM, kernel='linear'),\n",
    "    xval_parameters={'C': [100]})\n",
    "\n",
    "''' I have just one set of values - the one from the paper\n",
    "print(\"Estimating the best training parameters of the surrogate classifier...\")\n",
    "best_params = surr_clf.clf.estimate_parameters(\n",
    "    dataset=tr1,\n",
    "    parameters=surr_clf.xval_parameters,\n",
    "    splitter=xval_splitter,\n",
    "    metric=metric,\n",
    "    perf_evaluator='xval'\n",
    ")\n",
    "print(\"The best training parameters of the surrogate classifier are: \",\n",
    "      [(k, best_params[k]) for k in sorted(best_params)])\n",
    "'''\n",
    "\n",
    "print(\"\\nTraining the surrogate classifiers...\")\n",
    "\n",
    "surr_clf.clf.fit(tr1.X, tr1.Y)\n",
    "\n",
    "y_pred = surr_clf.clf.predict(ts.X)\n",
    "\n",
    "acc = metric.performance_score(y_true=ts.Y, y_pred=y_pred)\n",
    "\n",
    "print(\"Accuracy of the surrogate classifier on test set: {:.2%}\".format(acc))\n",
    "\n",
    "\n",
    "''' \n",
    "    #Something is wrong with this one\n",
    "    CLF(clf_name='Logistic (SGD)',\n",
    "        clf=CClassifierMulticlassOVA(\n",
    "            CClassifierSGD, regularizer='l2', loss='loss',\n",
    "            random_state=random_state),\n",
    "        xval_parameters={'alpha': [1e-6, 1e-5, 1e-4]}),\n",
    "     \n",
    "    #Not used in a paper\n",
    "    CLF(clf_name='kNN',\n",
    "        clf=CClassifierKNN(),\n",
    "        xval_parameters={'n_neighbors': [30, 40, 50]}),\n",
    "'''\n",
    "\n",
    "print(\"\\nTraining the target classifiers...\")"
   ]
  },
  {
   "cell_type": "code",
   "execution_count": 5,
   "id": "cb146a07",
   "metadata": {},
   "outputs": [
    {
     "name": "stdout",
     "output_type": "stream",
     "text": [
      "\n",
      "Classifiers trained...\n"
     ]
    }
   ],
   "source": [
    "target_clf_list = [\n",
    "    CLF(\n",
    "        clf_name='SVM Linear H',\n",
    "        clf=CClassifierMulticlassOVA(CClassifierSVM, kernel='linear'),\n",
    "        xval_parameters={'C': [100]}),\n",
    "    CLF(\n",
    "        clf_name='SVM Linear L',\n",
    "        clf=CClassifierMulticlassOVA(CClassifierSVM, kernel='linear'),\n",
    "        xval_parameters={'C': [0.1]}),\n",
    "]\n",
    "\n",
    "'''Run one by one or my computer will die \n",
    "    CLF(clf_name='SVM RBF H',\n",
    "        clf=CClassifierMulticlassOVA(CClassifierSVM, kernel='rbf'),\n",
    "        xval_parameters={'C': [100],  'kernel.gamma': [0.01]}),\n",
    "    CLF(clf_name='SVM RBF L',\n",
    "        clf=CClassifierMulticlassOVA(CClassifierSVM, kernel='rbf'),\n",
    "        xval_parameters={'C': [1],  'kernel.gamma': [0.01]}),\n",
    "    CLF(clf_name='Decision Tree H',\n",
    "        clf=CClassifierDecisionTree(random_state=random_state),\n",
    "        xval_parameters={'max_depth': [16]}),\n",
    "    CLF(clf_name='Decision Tree L',\n",
    "        clf=CClassifierDecisionTree(random_state=random_state),\n",
    "        xval_parameters={'max_depth': [8]}),\n",
    "    CLF(clf_name='Random Forest H',\n",
    "        clf=CClassifierRandomForest(random_state=random_state),\n",
    "        xval_parameters={'n_estimators': [30], 'max_depth': [16]}),\n",
    "    CLF(clf_name='Random Forest L',\n",
    "        clf=CClassifierRandomForest(random_state=random_state),\n",
    "        xval_parameters={'n_estimators': [30], 'max_depth': [8]}),\n",
    "'''\n",
    "\n",
    "print(\"\\nClassifiers trained...\")"
   ]
  },
  {
   "cell_type": "code",
   "execution_count": 6,
   "id": "e8ba4089",
   "metadata": {},
   "outputs": [
    {
     "name": "stdout",
     "output_type": "stream",
     "text": [
      "Training of SVM Linear H ...\n",
      "Classifier: SVM Linear H\tAccuracy: 91.70%\n",
      "Training of SVM Linear L ...\n",
      "Classifier: SVM Linear L\tAccuracy: 91.70%\n"
     ]
    }
   ],
   "source": [
    "for i, test_case in enumerate(target_clf_list):\n",
    "    clf = test_case.clf\n",
    "    xval_params = test_case.xval_parameters\n",
    "\n",
    "    '''No best parameters for now, I use data from the papers\n",
    "    print(\"\\nEstimating the best training parameters of {:} ...\"\n",
    "          \"\".format(test_case.clf_name))\n",
    "    \n",
    "    best_params = clf.estimate_parameters(\n",
    "        dataset=tr2, parameters=xval_params, splitter=xval_splitter,\n",
    "        metric='accuracy', perf_evaluator='xval')\n",
    "            \n",
    "    print(\"The best parameters for '{:}' are: \".format(test_case.clf_name),\n",
    "          [(k, best_params[k]) for k in sorted(best_params)])\n",
    "\n",
    "    '''\n",
    "    print(\"Training of {:} ...\".format(test_case.clf_name))\n",
    "    clf.fit(tr2.X, tr2.Y)\n",
    "\n",
    "    # Predictions on test set and performance evaluation\n",
    "    y_pred = clf.predict(ts.X)\n",
    "    acc = metric.performance_score(y_true=ts.Y, y_pred=y_pred)\n",
    "\n",
    "    print(\"Classifier: {:}\\tAccuracy: {:.2%}\".format(test_case.clf_name, acc))"
   ]
  },
  {
   "cell_type": "markdown",
   "id": "334ed6ef",
   "metadata": {},
   "source": [
    "Change \"loss = log\" to \"loss = log_loss\" in the:\n",
    "\n",
    " CLF(clf_name='Logistic (SGD)',\n",
    "        clf=CClassifierMulticlassOVA(\n",
    "            CClassifierSGD, regularizer='l2', loss='log_loss',\n",
    "            random_state=random_state),\n",
    "        xval_parameters={'alpha': [1e-6, 1e-5, 1e-4]}),\n",
    "        \n",
    "This change causes:  no class of type `log_loss` is a subclass of 'CLoss' from module 'secml.ml.classifiers.loss.c_loss'"
   ]
  },
  {
   "cell_type": "code",
   "execution_count": 58,
   "id": "7d79fe62",
   "metadata": {},
   "outputs": [],
   "source": [
    "#Visualise the attack function\n",
    "\n",
    "from secml.figure import CFigure\n",
    "# Only required for visualization in notebooks\n",
    "%matplotlib inline\n",
    "digits=(0, 1, 2, 3, 4, 5, 6, 7, 8, 9)\n",
    "# Let's define a convenience function to easily plot the MNIST dataset\n",
    "def show_digits(samples, preds, labels, digs, n_display=6):\n",
    "    samples = samples.atleast_2d()\n",
    "    n_display = min(n_display, samples.shape[0])\n",
    "    fig = CFigure(width=n_display*2, height=3)\n",
    "    for idx in range(n_display):\n",
    "        fig.subplot(2, n_display, idx+1)\n",
    "        fig.sp.xticks([])\n",
    "        fig.sp.yticks([])\n",
    "        fig.sp.imshow(samples[idx, :].reshape((28, 28)), cmap='gray')\n",
    "        fig.sp.title(\"{} ({})\".format(digits[labels[idx].item()], digs[preds[idx].item()]),\n",
    "                     color=(\"green\" if labels[idx].item()==preds[idx].item() else \"red\"))\n",
    "    fig.show()\n",
    "\n"
   ]
  },
  {
   "cell_type": "code",
   "execution_count": null,
   "id": "dccfe276",
   "metadata": {},
   "outputs": [
    {
     "name": "stdout",
     "output_type": "stream",
     "text": [
      "Attack started...\n"
     ]
    }
   ],
   "source": [
    "#It would take me around 170 hours to run evasion attack on the default configuration. So, I simplified it.\n",
    "\n",
    "noise_type = 'l2'  # Type of perturbation 'l1' or 'l2'\n",
    "dmax = 5           # Maximum perturbation\n",
    "lb, ub = 0, 1      # Bounds of the attack space. Can be set to `None` for unbounded\n",
    "y_target = 2       # `error-specific` attack. None for `error-generic`\n",
    "\n",
    "# Should be chosen depending on the optimization problem\n",
    "solver_params = {\n",
    "    'eta': 5e-1,\n",
    "    'eta_min': 0.1,\n",
    "    'eta_max': None,\n",
    "    'max_iter': 25,\n",
    "    'eps': 50\n",
    "}\n",
    "\n",
    "from secml.adv.attacks.evasion import CAttackEvasionPGDLS\n",
    "pgd_ls_attack = CAttackEvasionPGDLS(\n",
    "    classifier=surr_clf.clf,\n",
    "    double_init_ds=tr1,\n",
    "    double_init=False,\n",
    "    distance=noise_type,\n",
    "    dmax=dmax,\n",
    "    lb=lb, ub=ub,\n",
    "    solver_params=solver_params,\n",
    "    y_target=y_target)\n",
    "\n",
    "#Again it is very computationally intensive, run a test on a small subset (1%) and check time\n",
    "smallerts = ts[100:200, :]\n",
    "\n",
    "# Run the evasion attack on x0\n",
    "print(\"Attack started...\")\n",
    "y_pred, scores, adv_ds, f_obj = pgd_ls_attack.run(smallerts.X, smallerts.Y)\n",
    "print(\"Attack complete!\")\n",
    "\n",
    "show_digits(smallerts.X, surr_clf.clf.predict(smallerts.X), smallerts.Y, digits)\n",
    "show_digits(adv_ds.X, surr_clf.clf.predict(adv_ds.X), adv_ds.Y, digits)"
   ]
  },
  {
   "cell_type": "code",
   "execution_count": 85,
   "id": "80268caa",
   "metadata": {},
   "outputs": [
    {
     "name": "stdout",
     "output_type": "stream",
     "text": [
      "Error rate: 6.00%\n"
     ]
    }
   ],
   "source": [
    "good = sum = 0\n",
    "\n",
    "for i in surr_clf.clf.predict(smallerts.X)==smallerts.Y:\n",
    "    if(i):\n",
    "        good+=1\n",
    "    sum+=1\n",
    "    \n",
    "print(\"Error rate: {:.2%}\".format(1 - good/sum))"
   ]
  },
  {
   "cell_type": "code",
   "execution_count": 86,
   "id": "bf6c5d40",
   "metadata": {},
   "outputs": [
    {
     "name": "stdout",
     "output_type": "stream",
     "text": [
      "\n",
      "Testing transferability of SVM Linear H\n",
      "Test error (no attack): 6.00%\n",
      "\n",
      "Testing transferability of SVM Linear L\n",
      "Test error (no attack): 6.00%\n"
     ]
    },
    {
     "data": {
      "image/png": "[encoded data removed]",
      "text/plain": [
       "<Figure size 600x100 with 1 Axes>"
      ]
     },
     "metadata": {},
     "output_type": "display_data"
    },
    {
     "name": "stdout",
     "output_type": "stream",
     "text": [
      "\n",
      "Average transfer rate: 11.00%\n"
     ]
    }
   ],
   "source": [
    "# Metric to use for testing transferability\n",
    "from secml.ml.peval.metrics import CMetricTestError\n",
    "metric = CMetricTestError()\n",
    "\n",
    "trans_error = []\n",
    "transfer_rate = 0.0\n",
    "for target_clf in target_clf_list:\n",
    "\n",
    "    print(\"\\nTesting transferability of {:}\".format(target_clf.clf_name))\n",
    "\n",
    "    origin_error = metric.performance_score(\n",
    "            y_true=smallerts.Y, y_pred=target_clf.clf.predict(smallerts.X))\n",
    "\n",
    "    print(\"Test error (no attack): {:.2%}\".format(origin_error))\n",
    "\n",
    "    trans_error_clf = metric.performance_score(\n",
    "        y_true=smallerts.Y, y_pred=target_clf.clf.predict(adv_ds.X))\n",
    "\n",
    "    trans_error.append(trans_error_clf)\n",
    "    transfer_rate += trans_error_clf\n",
    "\n",
    "# Computing the transfer rate\n",
    "transfer_rate /= len(target_clf_list)\n",
    "\n",
    "from secml.array import CArray\n",
    "trans_acc = CArray(trans_error) * 100  # Show results in percentage\n",
    "\n",
    "from secml.figure import CFigure\n",
    "# Only required for visualization in notebooks\n",
    "%matplotlib inline\n",
    "\n",
    "fig = CFigure(height=1)\n",
    "a = fig.sp.imshow(trans_acc.reshape((1, len(target_clf_list))),\n",
    "                  cmap='Oranges', interpolation='nearest',\n",
    "                  alpha=.65, vmin=60, vmax=70)\n",
    "\n",
    "fig.sp.xticks(CArray.arange((len(target_clf_list))))\n",
    "fig.sp.xticklabels([c.clf_name for c in target_clf_list],\n",
    "                   rotation=45, ha=\"right\", rotation_mode=\"anchor\")\n",
    "fig.sp.yticks([0])\n",
    "fig.sp.yticklabels([surr_clf.clf_name])\n",
    "\n",
    "for i in range(len(target_clf_list)):\n",
    "    fig.sp.text(i, 0, trans_acc[i].round(2).item(), va='center', ha='center')\n",
    "\n",
    "fig.sp.title(\"Test error of target classifiers under attack (%)\")\n",
    "\n",
    "fig.show()\n",
    "\n",
    "print(\"\\nAverage transfer rate: {:.2%}\".format(transfer_rate))"
   ]
  },
  {
   "cell_type": "markdown",
   "id": "198b8e6a",
   "metadata": {},
   "source": [
    "Here I changed hardcoded 6 elements into len(target_clf_list), to test at lower number of classifiers at the time (or otherwise my computer would not handle it). Moreover, if we were sticking strictly to the paper it would be 12 classifiers in total (H and L version for each)."
   ]
  },
  {
   "cell_type": "code",
   "execution_count": null,
   "id": "6a857b71",
   "metadata": {},
   "outputs": [],
   "source": []
  }
 ],
 "metadata": {
  "kernelspec": {
   "display_name": "Python 3 (ipykernel)",
   "language": "python",
   "name": "python3"
  },
  "language_info": {
   "codemirror_mode": {
    "name": "ipython",
    "version": 3
   },
   "file_extension": ".py",
   "mimetype": "text/x-python",
   "name": "python",
   "nbconvert_exporter": "python",
   "pygments_lexer": "ipython3",
   "version": "3.8.18"
  }
 },
 "nbformat": 4,
 "nbformat_minor": 5
}
